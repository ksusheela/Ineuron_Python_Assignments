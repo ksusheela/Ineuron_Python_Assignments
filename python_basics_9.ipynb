{
 "cells": [
  {
   "cell_type": "markdown",
   "id": "87fd6e17",
   "metadata": {},
   "source": [
    "## 1.To what does a relative path refer?"
   ]
  },
  {
   "cell_type": "markdown",
   "id": "37d6bd50",
   "metadata": {},
   "source": [
    "A relative path refers to a file or directory path that is relative to the current working directory. It specifies the location of a file or directory in relation to the current directory, without specifying the full path from the root directory."
   ]
  },
  {
   "cell_type": "markdown",
   "id": "e76b4f32",
   "metadata": {},
   "source": [
    "For example, suppose the current working directory is\n",
    "\n",
    "\"C:\\Users\\Username\\Desktop\" on a Windows system. A relative path to a file located in the \"Documents\" directory within the current user's home directory could be specified as \"..\\Documents\\filename.txt\", which means to go up one level to the parent directory and then go to the \"Documents\" directory to find the file."
   ]
  },
  {
   "cell_type": "markdown",
   "id": "f174bcf5",
   "metadata": {},
   "source": [
    "## 2.What does an absolute path start with your operating system?"
   ]
  },
  {
   "cell_type": "markdown",
   "id": "47590018",
   "metadata": {},
   "source": [
    "In most operating systems, an absolute path starts with the root directory of the file system.\n",
    "\n",
    "For example, in Unix-based systems (such as Linux and macOS), an absolute path starts with a forward slash (/), which represents the root directory. The rest of the path specifies the location of the file or directory from the root directory."
   ]
  },
  {
   "cell_type": "markdown",
   "id": "fd657927",
   "metadata": {},
   "source": [
    "## 3.What do the functions os.getcwd() and os.chdir() do?"
   ]
  },
  {
   "cell_type": "code",
   "execution_count": 6,
   "id": "29453973",
   "metadata": {},
   "outputs": [],
   "source": [
    "import os"
   ]
  },
  {
   "cell_type": "code",
   "execution_count": 7,
   "id": "2ecf6bca",
   "metadata": {},
   "outputs": [
    {
     "data": {
      "text/plain": [
       "'C:\\\\Users\\\\ADMIN'"
      ]
     },
     "execution_count": 7,
     "metadata": {},
     "output_type": "execute_result"
    }
   ],
   "source": [
    "os.getcwd() # current working directory"
   ]
  },
  {
   "cell_type": "code",
   "execution_count": 8,
   "id": "24231e75",
   "metadata": {},
   "outputs": [],
   "source": [
    "os.chdir('C:\\\\Users\\\\ADMIN\\\\documents') # change directory"
   ]
  },
  {
   "cell_type": "code",
   "execution_count": 9,
   "id": "d25e175a",
   "metadata": {},
   "outputs": [
    {
     "data": {
      "text/plain": [
       "'C:\\\\Users\\\\ADMIN\\\\documents'"
      ]
     },
     "execution_count": 9,
     "metadata": {},
     "output_type": "execute_result"
    }
   ],
   "source": [
    "os.getcwd()"
   ]
  },
  {
   "cell_type": "markdown",
   "id": "fa7456b7",
   "metadata": {},
   "source": [
    "## 4.What are the . and .. folders?"
   ]
  },
  {
   "cell_type": "markdown",
   "id": "af4d6199",
   "metadata": {},
   "source": [
    "In Unix-based file systems (such as Linux and macOS), the . and .. folders are special directory entries that have specific meanings:\n",
    "\n",
    ". (dot): This represents the current directory. It is used as a shorthand to refer to the current directory in file paths or commands.\n",
    "\n",
    ".. (dot dot): This represents the parent directory. It is used as a shorthand to refer to the directory that contains the current directory."
   ]
  },
  {
   "cell_type": "markdown",
   "id": "b74a3f2c",
   "metadata": {},
   "source": [
    "## 5.In C:\\bacon\\eggs\\spam.txt, which part is the dir name, and which part is the base name?"
   ]
  },
  {
   "cell_type": "markdown",
   "id": "0ca4ca1b",
   "metadata": {},
   "source": [
    "\"C:\\bacon\\eggs\" is the directory name (or \"folder\" name), which is the path to the directory containing the file \"spam.txt\".\n",
    "\n",
    "\"spam.txt\" is the base name (or \"file name\"), which is the name of the file itself."
   ]
  },
  {
   "cell_type": "markdown",
   "id": "fc3800d1",
   "metadata": {},
   "source": [
    "## 6. What are the three “mode” arguments that can be passed to the open() function?"
   ]
  },
  {
   "cell_type": "markdown",
   "id": "293368e6",
   "metadata": {},
   "source": [
    "The open() function in Python accepts the following three mode arguments:\n",
    "\n",
    "r (read mode): This is the default mode. It opens a file for reading, and if the file doesn't exist, it raises a FileNotFoundError. This mode is used when you want to read data from an existing file.\n",
    "\n",
    "w (write mode): This mode opens a file for writing. If the file doesn't exist, it creates a new file. If the file already exists, it will be truncated to zero length before writing. This mode is used when you want to write data to a file or overwrite the existing data in a file.\n",
    "\n",
    "a (append mode): This mode opens a file for appending data. If the file doesn't exist, it creates a new file. If the file already exists, it will be opened for appending at the end of the file. This mode is used when you want to add new data to an existing file."
   ]
  },
  {
   "cell_type": "markdown",
   "id": "1140c91a",
   "metadata": {},
   "source": [
    "## 7. What happens if an existing file is opened in write mode?"
   ]
  },
  {
   "cell_type": "markdown",
   "id": "b3c68080",
   "metadata": {},
   "source": [
    "If an existing file is opened in write mode using the open() function in Python, the existing contents of the file will be deleted and the file will be truncated to zero length. Any data that was previously in the file will be lost."
   ]
  },
  {
   "cell_type": "code",
   "execution_count": 10,
   "id": "62329923",
   "metadata": {},
   "outputs": [],
   "source": [
    "with open(\"example.txt\", \"w\") as f:\n",
    "    f.write(\"Hello, world!\")\n"
   ]
  },
  {
   "cell_type": "markdown",
   "id": "a4f22236",
   "metadata": {},
   "source": [
    "## 8.How do you tell the difference between read() and readlines()?"
   ]
  },
  {
   "cell_type": "markdown",
   "id": "81cf54be",
   "metadata": {},
   "source": [
    "In Python, read() and readlines() are both methods of file objects that can be used to read data from a file. The key difference between read() and readlines() is the way they read data from the file:\n",
    "\n",
    "read(): This method reads the entire content of the file as a single string, including all the line breaks and end-of-file (EOF) markers. It returns the string containing the entire content of the file.\n",
    "\n",
    "readlines(): This method reads all the lines of the file and returns a list of strings, where each string represents a line of the file, including the line breaks. The returned list can be iterated over to access each line individually."
   ]
  },
  {
   "cell_type": "markdown",
   "id": "0261aa42",
   "metadata": {},
   "source": [
    "## 9.What data structure does a shelf value resemble?"
   ]
  },
  {
   "cell_type": "markdown",
   "id": "b7f6a21f",
   "metadata": {},
   "source": [
    "In Python, a shelf is a built-in module that provides a persistent dictionary-like object. It allows you to store and retrieve key-value pairs of data, just like a dictionary, but with the added benefit of automatically persisting the data to disk."
   ]
  },
  {
   "cell_type": "code",
   "execution_count": 11,
   "id": "ab886975",
   "metadata": {},
   "outputs": [
    {
     "name": "stdout",
     "output_type": "stream",
     "text": [
      "John Doe\n"
     ]
    }
   ],
   "source": [
    "import shelve\n",
    "\n",
    "# Open a shelf file named \"my_shelf\"\n",
    "with shelve.open(\"my_shelf\") as my_shelf:\n",
    "    # Add a key-value pair to the shelf\n",
    "    my_shelf[\"name\"] = \"John Doe\"\n",
    "    \n",
    "    # Retrieve a value from the shelf using a key\n",
    "    print(my_shelf[\"name\"])  # Output: \"John Doe\"\n",
    "    \n",
    "    # Update a value in the shelf using a key\n",
    "    my_shelf[\"name\"] = \"Jane Doe\"\n",
    "    \n",
    "    # Delete a key-value pair from the shelf\n",
    "    del my_shelf[\"name\"]\n"
   ]
  },
  {
   "cell_type": "code",
   "execution_count": null,
   "id": "aa02596c",
   "metadata": {},
   "outputs": [],
   "source": []
  }
 ],
 "metadata": {
  "kernelspec": {
   "display_name": "Python 3 (ipykernel)",
   "language": "python",
   "name": "python3"
  },
  "language_info": {
   "codemirror_mode": {
    "name": "ipython",
    "version": 3
   },
   "file_extension": ".py",
   "mimetype": "text/x-python",
   "name": "python",
   "nbconvert_exporter": "python",
   "pygments_lexer": "ipython3",
   "version": "3.9.12"
  }
 },
 "nbformat": 4,
 "nbformat_minor": 5
}
