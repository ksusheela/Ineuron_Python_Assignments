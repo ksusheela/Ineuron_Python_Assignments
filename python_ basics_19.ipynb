{
 "cells": [
  {
   "cell_type": "markdown",
   "id": "5126bfb6",
   "metadata": {},
   "source": [
    "## 1.Make a class called Thing with no contents and print it. Then, create an object called example from this class and also print it. Are the printed values the same or different?"
   ]
  },
  {
   "cell_type": "code",
   "execution_count": 1,
   "id": "d1c03548",
   "metadata": {},
   "outputs": [
    {
     "name": "stdout",
     "output_type": "stream",
     "text": [
      "<class '__main__.Thing'>\n",
      "<__main__.Thing object at 0x000002161A2A8D90>\n"
     ]
    }
   ],
   "source": [
    "# Define a class called Thing\n",
    "class Thing:\n",
    "    pass\n",
    "\n",
    "# Print the class Thing\n",
    "print(Thing)\n",
    "\n",
    "# Create an object called example from the class Thing\n",
    "example = Thing()\n",
    "\n",
    "# Print the object example\n",
    "print(example)\n"
   ]
  },
  {
   "cell_type": "raw",
   "id": "7a3a68bc",
   "metadata": {},
   "source": [
    "NOt same ,first one is printed class defination and second one printed object address.\n"
   ]
  },
  {
   "cell_type": "markdown",
   "id": "e97c3e0d",
   "metadata": {},
   "source": [
    "## 2.Create a new class called Thing2 and add the value &#39;abc&#39; to the letters class attribute. Letters should be printed."
   ]
  },
  {
   "cell_type": "code",
   "execution_count": 2,
   "id": "91e9b87d",
   "metadata": {},
   "outputs": [
    {
     "name": "stdout",
     "output_type": "stream",
     "text": [
      "abc\n"
     ]
    }
   ],
   "source": [
    "# Define a class called Thing2\n",
    "class Thing2:\n",
    "    letters = 'abc'\n",
    "\n",
    "# Print the value of letters from the Thing2 class\n",
    "print(Thing2.letters)"
   ]
  },
  {
   "cell_type": "markdown",
   "id": "dfdd0724",
   "metadata": {},
   "source": [
    "## 3. Make yet another class called, of course, Thing3. This time, assign the value &#39;xyz&#39; to an instance (object) attribute called letters. Print letters. Do you need to make an object from the class to do this?"
   ]
  },
  {
   "cell_type": "code",
   "execution_count": 4,
   "id": "d72d44a1",
   "metadata": {
    "scrolled": true
   },
   "outputs": [
    {
     "name": "stdout",
     "output_type": "stream",
     "text": [
      "xyz\n"
     ]
    }
   ],
   "source": [
    "# Define a class called Thing3\n",
    "class Thing3:\n",
    "    def __init__(self):\n",
    "        self.letters = 'xyz'\n",
    "\n",
    "# Create an object (instance) from the Thing3 class\n",
    "thing = Thing3()\n",
    "\n",
    "# Print the value of the letters attribute of the object\n",
    "print(thing.letters)\n"
   ]
  },
  {
   "cell_type": "raw",
   "id": "0d4d5df8",
   "metadata": {},
   "source": [
    "yes, we do need to create an object from the class to access the instance attribute.\n"
   ]
  },
  {
   "cell_type": "markdown",
   "id": "ff205572",
   "metadata": {},
   "source": [
    "## 4.Create an Element class with the instance attributes name, symbol, and number. Create a class object with the values &#39;Hydrogen,&#39; &#39;H,&#39; and 1."
   ]
  },
  {
   "cell_type": "code",
   "execution_count": 5,
   "id": "612716ed",
   "metadata": {},
   "outputs": [
    {
     "name": "stdout",
     "output_type": "stream",
     "text": [
      "Hydrogen\n",
      "H\n",
      "1\n"
     ]
    }
   ],
   "source": [
    "# Define a class called Element\n",
    "class Element:\n",
    "    def __init__(self, name, symbol, number):\n",
    "        self.name = name\n",
    "        self.symbol = symbol\n",
    "        self.number = number\n",
    "\n",
    "# Create a class object with values 'Hydrogen', 'H', and 1\n",
    "hydrogen = Element('Hydrogen', 'H', 1)\n",
    "\n",
    "# Print the values of the instance attributes for the hydrogen object\n",
    "print(hydrogen.name)\n",
    "print(hydrogen.symbol)\n",
    "print(hydrogen.number)\n"
   ]
  },
  {
   "cell_type": "markdown",
   "id": "497262f1",
   "metadata": {},
   "source": [
    "## 5. Make a dictionary with these keys and values: &#39;name&#39;: &#39;Hydrogen&#39;, &#39;symbol&#39;: &#39;H&#39;, &#39;number&#39;: 1. Then, create an object called hydrogen from class Element using this dictionary."
   ]
  },
  {
   "cell_type": "code",
   "execution_count": 1,
   "id": "f1a59c5e",
   "metadata": {},
   "outputs": [
    {
     "name": "stdout",
     "output_type": "stream",
     "text": [
      "Hydrogen\n",
      "H\n",
      "1\n"
     ]
    }
   ],
   "source": [
    "# Define a class called Element\n",
    "class Element:\n",
    "    def __init__(self, number, symbol, name):\n",
    "        self.name = name\n",
    "        self.symbol = symbol\n",
    "        self.number = number\n",
    "\n",
    "# Define a dictionary with the values\n",
    "hydrogen_dict = {'name': 'Hydrogen', 'symbol': 'H', 'number': 1}\n",
    "\n",
    "# Create an object called hydrogen from the Element class using the dictionary\n",
    "hydrogen = Element(**hydrogen_dict)\n",
    "\n",
    "# Print the values of the instance attributes for the hydrogen object\n",
    "print(hydrogen.name)\n",
    "print(hydrogen.symbol)\n",
    "print(hydrogen.number)\n"
   ]
  },
  {
   "cell_type": "markdown",
   "id": "e192d6c5",
   "metadata": {},
   "source": [
    "## 6. For the Element class, define a method called dump() that prints the values of the object’s attributes (name, symbol, and number). Create the hydrogen object from this new definition and use dump() to print its attributes."
   ]
  },
  {
   "cell_type": "code",
   "execution_count": 2,
   "id": "4fa53010",
   "metadata": {},
   "outputs": [],
   "source": [
    "class Element:\n",
    "    def __init__(self, name, symbol, number):\n",
    "        self.name = name\n",
    "        self.symbol = symbol\n",
    "        self.number = number\n",
    "        \n",
    "    def dump(self):\n",
    "        print(\"Name: \", self.name)\n",
    "        print(\"Symbol: \", self.symbol)\n",
    "        print(\"Number: \", self.number)\n"
   ]
  },
  {
   "cell_type": "code",
   "execution_count": 3,
   "id": "8450143b",
   "metadata": {},
   "outputs": [
    {
     "name": "stdout",
     "output_type": "stream",
     "text": [
      "Name:  Hydrogen\n",
      "Symbol:  H\n",
      "Number:  1\n"
     ]
    }
   ],
   "source": [
    "hydrogen = Element(\"Hydrogen\", \"H\", 1)\n",
    "hydrogen.dump()\n"
   ]
  },
  {
   "cell_type": "markdown",
   "id": "7d85dd4e",
   "metadata": {},
   "source": [
    "## 7.Call print(hydrogen). In the definition of Element, change the name of method dump to __str__, create a new hydrogen object, and call print(hydrogen) again."
   ]
  },
  {
   "cell_type": "raw",
   "id": "3d8849b9",
   "metadata": {},
   "source": [
    "<__main__.Element object at 0x7f828d0ebd90>\n"
   ]
  },
  {
   "cell_type": "code",
   "execution_count": 5,
   "id": "e1a957ae",
   "metadata": {},
   "outputs": [],
   "source": [
    "class Element:\n",
    "    def __init__(self, name, symbol, number):\n",
    "        self.name = name\n",
    "        self.symbol = symbol\n",
    "        self.number = number\n",
    "        \n",
    "    def __str__(self):\n",
    "        return f\"{self.name} ({self.symbol}, {self.number})\"\n"
   ]
  },
  {
   "cell_type": "code",
   "execution_count": 6,
   "id": "d8425c6c",
   "metadata": {},
   "outputs": [
    {
     "name": "stdout",
     "output_type": "stream",
     "text": [
      "Hydrogen (H, 1)\n"
     ]
    }
   ],
   "source": [
    "hydrogen = Element(\"Hydrogen\", \"H\", 1)\n",
    "print(hydrogen)\n"
   ]
  },
  {
   "cell_type": "markdown",
   "id": "cbce068a",
   "metadata": {},
   "source": [
    "## 8.Modify Element to make the attributes name, symbol, and number private. Define a getter property for each to return its value."
   ]
  },
  {
   "cell_type": "code",
   "execution_count": 7,
   "id": "257fe1fe",
   "metadata": {},
   "outputs": [],
   "source": [
    "class Element:\n",
    "    def __init__(self, name, symbol, number):\n",
    "        self.__name = name\n",
    "        self.__symbol = symbol\n",
    "        self.__number = number\n",
    "\n",
    "    @property\n",
    "    def name(self):\n",
    "        return self.__name\n",
    "\n",
    "    @property\n",
    "    def symbol(self):\n",
    "        return self.__symbol\n",
    "\n",
    "    @property\n",
    "    def number(self):\n",
    "        return self.__number\n"
   ]
  },
  {
   "cell_type": "code",
   "execution_count": 8,
   "id": "dba76143",
   "metadata": {},
   "outputs": [
    {
     "name": "stdout",
     "output_type": "stream",
     "text": [
      "Oxygen\n",
      "O\n",
      "8\n"
     ]
    }
   ],
   "source": [
    "oxygen = Element(\"Oxygen\", \"O\", 8)\n",
    "print(oxygen.name)    # Output: Oxygen\n",
    "print(oxygen.symbol)  # Output: O\n",
    "print(oxygen.number)  # Output: 8\n"
   ]
  },
  {
   "cell_type": "code",
   "execution_count": 9,
   "id": "f214e939",
   "metadata": {},
   "outputs": [
    {
     "ename": "AttributeError",
     "evalue": "'Element' object has no attribute '__name'",
     "output_type": "error",
     "traceback": [
      "\u001b[1;31m---------------------------------------------------------------------------\u001b[0m",
      "\u001b[1;31mAttributeError\u001b[0m                            Traceback (most recent call last)",
      "Input \u001b[1;32mIn [9]\u001b[0m, in \u001b[0;36m<cell line: 1>\u001b[1;34m()\u001b[0m\n\u001b[1;32m----> 1\u001b[0m \u001b[43moxygen\u001b[49m\u001b[38;5;241;43m.\u001b[39;49m\u001b[43m__name\u001b[49m\n",
      "\u001b[1;31mAttributeError\u001b[0m: 'Element' object has no attribute '__name'"
     ]
    }
   ],
   "source": [
    "oxygen.__name  # Raises AttributeError: 'Element' object has no attribute '__name'\n"
   ]
  },
  {
   "cell_type": "markdown",
   "id": "fbc078a2",
   "metadata": {},
   "source": [
    "## 9.Define three classes: Bear, Rabbit, and Octothorpe. For each, define only one method: eats(). This should return &#39;berries&#39; (Bear), &#39;clover&#39; (Rabbit), or &#39;campers&#39; (Octothorpe). Create one object from each and print what it eats.\n"
   ]
  },
  {
   "cell_type": "code",
   "execution_count": 10,
   "id": "c42a7aa7",
   "metadata": {},
   "outputs": [],
   "source": [
    "class Bear:\n",
    "    def eats(self):\n",
    "        return 'berries'\n",
    "\n",
    "class Rabbit:\n",
    "    def eats(self):\n",
    "        return 'clover'\n",
    "\n",
    "class Octothorpe:\n",
    "    def eats(self):\n",
    "        return 'campers'\n"
   ]
  },
  {
   "cell_type": "code",
   "execution_count": 11,
   "id": "d881c2fc",
   "metadata": {},
   "outputs": [
    {
     "name": "stdout",
     "output_type": "stream",
     "text": [
      "The bear eats berries\n",
      "The rabbit eats clover\n",
      "The octothorpe eats campers\n"
     ]
    }
   ],
   "source": [
    "bear = Bear()\n",
    "rabbit = Rabbit()\n",
    "octothorpe = Octothorpe()\n",
    "\n",
    "print('The bear eats', bear.eats())\n",
    "print('The rabbit eats', rabbit.eats())\n",
    "print('The octothorpe eats', octothorpe.eats())\n"
   ]
  },
  {
   "cell_type": "markdown",
   "id": "2b1a0a0c",
   "metadata": {},
   "source": [
    "## 10. Define these classes: Laser, Claw, and SmartPhone. Each has only one method: does(). This returns &#39;disintegrate&#39; (Laser), &#39;crush&#39; (Claw), or &#39;ring&#39; (SmartPhone). Then, define the class Robot that has one instance (object) of each of these. Define a does() method for the Robot that prints what its component objects do."
   ]
  },
  {
   "cell_type": "code",
   "execution_count": 12,
   "id": "9a1b6fe0",
   "metadata": {},
   "outputs": [],
   "source": [
    "class Laser:\n",
    "    def does(self):\n",
    "        return 'disintegrate'\n",
    "\n",
    "class Claw:\n",
    "    def does(self):\n",
    "        return 'crush'\n",
    "\n",
    "class SmartPhone:\n",
    "    def does(self):\n",
    "        return 'ring'\n"
   ]
  },
  {
   "cell_type": "code",
   "execution_count": 13,
   "id": "d17e3569",
   "metadata": {},
   "outputs": [],
   "source": [
    "class Robot:\n",
    "    def __init__(self):\n",
    "        self.laser = Laser()\n",
    "        self.claw = Claw()\n",
    "        self.smartphone = SmartPhone()\n",
    "\n",
    "    def does(self):\n",
    "        print('The laser', self.laser.does())\n",
    "        print('The claw', self.claw.does())\n",
    "        print('The smartphone', self.smartphone.does())\n"
   ]
  },
  {
   "cell_type": "code",
   "execution_count": 14,
   "id": "00646331",
   "metadata": {},
   "outputs": [
    {
     "name": "stdout",
     "output_type": "stream",
     "text": [
      "The laser disintegrate\n",
      "The claw crush\n",
      "The smartphone ring\n"
     ]
    }
   ],
   "source": [
    "robot = Robot()\n",
    "robot.does()\n"
   ]
  },
  {
   "cell_type": "raw",
   "id": "137006bc",
   "metadata": {},
   "source": [
    "Note that the does() method of the Robot class calls the does() method of each component and prints out what they do."
   ]
  },
  {
   "cell_type": "code",
   "execution_count": null,
   "id": "8fc698c5",
   "metadata": {},
   "outputs": [],
   "source": []
  }
 ],
 "metadata": {
  "kernelspec": {
   "display_name": "Python 3 (ipykernel)",
   "language": "python",
   "name": "python3"
  },
  "language_info": {
   "codemirror_mode": {
    "name": "ipython",
    "version": 3
   },
   "file_extension": ".py",
   "mimetype": "text/x-python",
   "name": "python",
   "nbconvert_exporter": "python",
   "pygments_lexer": "ipython3",
   "version": "3.9.12"
  }
 },
 "nbformat": 4,
 "nbformat_minor": 5
}
