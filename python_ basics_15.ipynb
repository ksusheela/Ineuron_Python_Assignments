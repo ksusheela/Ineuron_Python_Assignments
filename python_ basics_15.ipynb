{
 "cells": [
  {
   "cell_type": "markdown",
   "id": "8bff55ec",
   "metadata": {},
   "source": [
    "## 1.How many seconds are in an hour? Use the interactive interpreter as a calculator and multiply the number of seconds in a minute (60) by the number of minutes in an hour (also 60)."
   ]
  },
  {
   "cell_type": "markdown",
   "id": "d41fed19",
   "metadata": {},
   "source": [
    "To calculate the number of seconds in an hour, we can multiply the number of seconds in a minute (60) by the number of minutes in an hour (60):"
   ]
  },
  {
   "cell_type": "code",
   "execution_count": 2,
   "id": "e87bd50a",
   "metadata": {},
   "outputs": [
    {
     "data": {
      "text/plain": [
       "3600"
      ]
     },
     "execution_count": 2,
     "metadata": {},
     "output_type": "execute_result"
    }
   ],
   "source": [
    "60 * 60\n",
    "\n"
   ]
  },
  {
   "cell_type": "markdown",
   "id": "19f004c7",
   "metadata": {},
   "source": [
    "## 2.Assign the result from the previous task (seconds in an hour) to a variable called seconds_per_hour."
   ]
  },
  {
   "cell_type": "markdown",
   "id": "bf7141a1",
   "metadata": {},
   "source": [
    "We can assign the result of the calculation, which is 3600, to a variable called seconds_per_hour as follows:"
   ]
  },
  {
   "cell_type": "code",
   "execution_count": 4,
   "id": "92c2673b",
   "metadata": {},
   "outputs": [
    {
     "data": {
      "text/plain": [
       "3600"
      ]
     },
     "execution_count": 4,
     "metadata": {},
     "output_type": "execute_result"
    }
   ],
   "source": [
    "seconds_per_hour = 60 * 60\n",
    "seconds_per_hour"
   ]
  },
  {
   "cell_type": "markdown",
   "id": "4b919332",
   "metadata": {},
   "source": [
    "## 3.How many seconds do you think there are in a day? Make use of the variables seconds per hourand minutes per hour."
   ]
  },
  {
   "cell_type": "code",
   "execution_count": 5,
   "id": "944a7d29",
   "metadata": {},
   "outputs": [],
   "source": [
    "seconds_per_day = seconds_per_hour * 24\n"
   ]
  },
  {
   "cell_type": "code",
   "execution_count": 6,
   "id": "971a9fbc",
   "metadata": {},
   "outputs": [
    {
     "data": {
      "text/plain": [
       "86400"
      ]
     },
     "execution_count": 6,
     "metadata": {},
     "output_type": "execute_result"
    }
   ],
   "source": [
    "seconds_per_day"
   ]
  },
  {
   "cell_type": "markdown",
   "id": "40cc96fd",
   "metadata": {},
   "source": [
    "## 4. Calculate seconds per day again, but this time save the result in a variable called seconds_per_day"
   ]
  },
  {
   "cell_type": "code",
   "execution_count": 7,
   "id": "47b126fe",
   "metadata": {},
   "outputs": [
    {
     "name": "stdout",
     "output_type": "stream",
     "text": [
      "86400\n"
     ]
    }
   ],
   "source": [
    "seconds_per_hour = 60 * 60\n",
    "seconds_per_day = seconds_per_hour * 24\n",
    "\n",
    "print(seconds_per_day)   # Output: 86400\n"
   ]
  },
  {
   "cell_type": "markdown",
   "id": "8439631e",
   "metadata": {},
   "source": [
    "## 5. Divide seconds_per_day by seconds_per_hour. Use floating-point (/) division."
   ]
  },
  {
   "cell_type": "markdown",
   "id": "d75015b1",
   "metadata": {},
   "source": [
    "To divide seconds_per_day by seconds_per_hour using floating-point division, we can use the following code:"
   ]
  },
  {
   "cell_type": "code",
   "execution_count": 8,
   "id": "14789824",
   "metadata": {},
   "outputs": [
    {
     "data": {
      "text/plain": [
       "24.0"
      ]
     },
     "execution_count": 8,
     "metadata": {},
     "output_type": "execute_result"
    }
   ],
   "source": [
    "seconds_per_hour = 60 * 60\n",
    "seconds_per_day = seconds_per_hour * 24\n",
    "\n",
    "seconds_per_day / seconds_per_hour   # Output: 24.0\n"
   ]
  },
  {
   "cell_type": "markdown",
   "id": "c055716a",
   "metadata": {},
   "source": [
    "## 6. Divide seconds_per_day by seconds_per_hour, using integer (//) division. Did this number agree with the floating-point value from the previous question, aside from the final .0?"
   ]
  },
  {
   "cell_type": "markdown",
   "id": "a1fc1e24",
   "metadata": {},
   "source": [
    "To divide seconds_per_day by seconds_per_hour using integer division, we can use the // operator as follows:"
   ]
  },
  {
   "cell_type": "code",
   "execution_count": 9,
   "id": "b12d04ee",
   "metadata": {},
   "outputs": [
    {
     "data": {
      "text/plain": [
       "24"
      ]
     },
     "execution_count": 9,
     "metadata": {},
     "output_type": "execute_result"
    }
   ],
   "source": [
    "seconds_per_hour = 60 * 60\n",
    "seconds_per_day = seconds_per_hour * 24\n",
    "\n",
    "seconds_per_day // seconds_per_hour   # Output: 24\n"
   ]
  },
  {
   "cell_type": "markdown",
   "id": "b25a04bb",
   "metadata": {},
   "source": [
    "## 7. Write a generator, genPrimes, that returns the sequence of prime numbers on successive calls to its next() method: 2, 3, 5, 7, 11, ..."
   ]
  },
  {
   "cell_type": "markdown",
   "id": "2c3387d2",
   "metadata": {},
   "source": [
    "To write a generator genPrimes that returns the sequence of prime numbers on successive calls to its next() method, we can use the following code:"
   ]
  },
  {
   "cell_type": "code",
   "execution_count": 10,
   "id": "efcf1ca0",
   "metadata": {},
   "outputs": [],
   "source": [
    "def genPrimes():\n",
    "    \"\"\"\n",
    "    Generate an infinite sequence of prime numbers.\n",
    "    \"\"\"\n",
    "    primes = []     # list of prime numbers\n",
    "    num = 2         # start with the first prime number\n",
    "    while True:\n",
    "        if all(num % p != 0 for p in primes):  # check if num is prime\n",
    "            primes.append(num)                # add num to the list of primes\n",
    "            yield num                         # yield num as the next prime number\n",
    "        num += 1                               # move on to the next number\n"
   ]
  },
  {
   "cell_type": "code",
   "execution_count": 11,
   "id": "9feb6b74",
   "metadata": {},
   "outputs": [
    {
     "name": "stdout",
     "output_type": "stream",
     "text": [
      "2\n",
      "3\n",
      "5\n",
      "7\n",
      "11\n",
      "13\n",
      "17\n",
      "19\n",
      "23\n",
      "29\n",
      "31\n",
      "37\n",
      "41\n",
      "43\n"
     ]
    }
   ],
   "source": [
    "primes = genPrimes()\n",
    "print(next(primes))   # Output: 2\n",
    "print(next(primes))   # Output: 3\n",
    "print(next(primes))   # Output: 5\n",
    "print(next(primes))   # Output: 7\n",
    "\n",
    "# Generate and print the first 10 prime numbers using a for loop\n",
    "for i in range(10):\n",
    "    print(next(primes))\n"
   ]
  },
  {
   "cell_type": "code",
   "execution_count": null,
   "id": "cb2c5859",
   "metadata": {},
   "outputs": [],
   "source": []
  }
 ],
 "metadata": {
  "kernelspec": {
   "display_name": "Python 3 (ipykernel)",
   "language": "python",
   "name": "python3"
  },
  "language_info": {
   "codemirror_mode": {
    "name": "ipython",
    "version": 3
   },
   "file_extension": ".py",
   "mimetype": "text/x-python",
   "name": "python",
   "nbconvert_exporter": "python",
   "pygments_lexer": "ipython3",
   "version": "3.9.12"
  }
 },
 "nbformat": 4,
 "nbformat_minor": 5
}
