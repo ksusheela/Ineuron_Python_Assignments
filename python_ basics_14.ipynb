{
 "cells": [
  {
   "cell_type": "markdown",
   "id": "0b337499",
   "metadata": {},
   "source": [
    "## 1.What does RGBA stand for?"
   ]
  },
  {
   "cell_type": "markdown",
   "id": "4967d32e",
   "metadata": {},
   "source": [
    "RGBA stands for Red Green Blue Alpha. It is a color model used in digital imaging and computer graphics that describes how colors are composed of varying intensities of red, green, and blue light, as well as an additional alpha channel that represents the level of transparency or opacity of the color. The alpha channel is represented as a value between 0 and 1, with 0 representing full transparency and 1 representing full opacity. The RGBA color model is widely used in web design, computer gaming, and other digital applications where color and transparency are important"
   ]
  },
  {
   "cell_type": "markdown",
   "id": "46a8091a",
   "metadata": {},
   "source": [
    "## 2. From the Pillow module, how do you get the RGBA value of any images?"
   ]
  },
  {
   "cell_type": "markdown",
   "id": "bfbae36f",
   "metadata": {},
   "source": [
    "To get the RGBA value of any image using the Pillow module in Python, you can use the getdata() method of the Image object. Here's an example code snippet that demonstrates how to do this:"
   ]
  },
  {
   "cell_type": "raw",
   "id": "ac64ed0a",
   "metadata": {},
   "source": [
    "from PIL import Image\n",
    "\n",
    "# Open the image file\n",
    "img = Image.open(\"example.png\")\n",
    "\n",
    "# Get the RGBA values of all pixels in the image\n",
    "rgba_data = img.getdata()\n",
    "\n",
    "# Print the RGBA values of the first pixel in the image\n",
    "print(rgba_data[0])\n"
   ]
  },
  {
   "cell_type": "markdown",
   "id": "760d5047",
   "metadata": {},
   "source": [
    "## 3. What is a box tuple, and how does it work?"
   ]
  },
  {
   "cell_type": "markdown",
   "id": "577f58d9",
   "metadata": {},
   "source": [
    "In the context of the Pillow module in Python, a box tuple is a tuple of four integers that represents a rectangular region within an image. The four values in the tuple are, in order: (left, upper, right, lower)."
   ]
  },
  {
   "cell_type": "markdown",
   "id": "0a93a04a",
   "metadata": {},
   "source": [
    "Here's what each value represents:\n",
    "\n",
    "left: The x-coordinate of the left edge of the rectangle.\n",
    "\n",
    "upper: The y-coordinate of the upper edge of the rectangle.\n",
    "\n",
    "right: The x-coordinate of the right edge of the rectangle.\n",
    "\n",
    "lower: The y-coordinate of the lower edge of the rectangle.\n",
    "\n",
    "The box tuple is often used in Pillow to specify regions of an image that need to be cropped, resized, or otherwise manipulated. For example, to crop an image to a specific region defined by a box tuple, you can use the crop() method of the Image object and pass the box tuple as an argument. Here's an example:"
   ]
  },
  {
   "cell_type": "markdown",
   "id": "769cafb6",
   "metadata": {},
   "source": [
    "from PIL import Image\n",
    "\n",
    "#Open the image file\n",
    "\n",
    "img = Image.open(\"example.png\")\n",
    "\n",
    "#Define the region of the image to crop using a box tuple\n",
    "\n",
    "box = (100, 100, 300, 300)\n",
    "\n",
    "#Crop the image to the specified region\n",
    "\n",
    "cropped_img = img.crop(box)\n",
    "\n",
    "#Save the cropped image to a file\n",
    "\n",
    "cropped_img.save(\"cropped_example.png\")\n"
   ]
  },
  {
   "cell_type": "markdown",
   "id": "e38699c7",
   "metadata": {},
   "source": [
    "## 4.Use your image and load in notebook then, How can you find out the width and height of an Image object?"
   ]
  },
  {
   "cell_type": "markdown",
   "id": "0fc0bfe4",
   "metadata": {},
   "source": [
    "To find out the width and height of an Image object using the Pillow module in Python, you can use the size attribute of the Image object. Here's an example code snippet that demonstrates how to do this:"
   ]
  },
  {
   "cell_type": "markdown",
   "id": "e811176c",
   "metadata": {},
   "source": [
    "from PIL import Image\n",
    "\n",
    "#Open the image file\n",
    "\n",
    "img = Image.open(\"example.png\")\n",
    "\n",
    "#Get the width and height of the image\n",
    "\n",
    "width, height = img.size\n",
    "\n",
    "#Print the width and height of the image\n",
    "\n",
    "print(\"Image width:\", width)\n",
    "print(\"Image height:\", height)\n"
   ]
  },
  {
   "cell_type": "markdown",
   "id": "56014d01",
   "metadata": {},
   "source": [
    "## 5.What method would you call to get Image object for a 100×100 image, excluding the lower-left quarter of it?"
   ]
  },
  {
   "cell_type": "markdown",
   "id": "ff18a3dd",
   "metadata": {},
   "source": [
    "To get an Image object for a 100x100 image that excludes the lower-left quarter of it using the Pillow module in Python, you can use the crop() method of the Image object."
   ]
  },
  {
   "cell_type": "markdown",
   "id": "bfd91f2c",
   "metadata": {},
   "source": [
    "from PIL import Image\n",
    "\n",
    "#Open the image file\n",
    "\n",
    "img = Image.open(\"example.png\")\n",
    "\n",
    "#Define the region of the image to crop using a box tuple\n",
    "\n",
    "box = (50, 0, 100, 50)\n",
    "\n",
    "#Crop the image to the specified region\n",
    "\n",
    "cropped_img = img.crop(box)\n",
    "\n",
    "#Resize the cropped image to 100x100 pixels\n",
    "\n",
    "resized_img = cropped_img.resize((100, 100))\n",
    "\n",
    "#Save the resized image to a file\n",
    "\n",
    "resized_img.save(\"resized_example.png\")\n"
   ]
  },
  {
   "cell_type": "markdown",
   "id": "319b22c1",
   "metadata": {},
   "source": [
    "## 6.After making changes to an Image object, how could you save it as an image file?"
   ]
  },
  {
   "cell_type": "markdown",
   "id": "83eb1cfb",
   "metadata": {},
   "source": [
    "To save changes made to an Image object as an image file using the Pillow module in Python, you can use the save() method of the Image object. Here's an example code snippet that demonstrates how to do this:"
   ]
  },
  {
   "cell_type": "markdown",
   "id": "cfa3391e",
   "metadata": {},
   "source": [
    "from PIL import Image\n",
    "\n",
    "#Open the image file\n",
    "\n",
    "img = Image.open(\"example.png\")\n",
    "\n",
    "#Apply some modifications to the image object\n",
    "\n",
    "#...\n",
    "\n",
    "#Save the modified image to a file\n",
    "\n",
    "img.save(\"modified_example.png\")\n"
   ]
  },
  {
   "cell_type": "markdown",
   "id": "0152f41c",
   "metadata": {},
   "source": [
    "## 7.What module contains Pillow’s shape-drawing code?"
   ]
  },
  {
   "cell_type": "markdown",
   "id": "cf265d85",
   "metadata": {},
   "source": [
    "The module that contains Pillow's shape-drawing code is called ImageDraw. It is a module within the Pillow library and provides a set of classes and functions for drawing shapes and text on image objects. The ImageDraw module provides various methods for drawing shapes such as lines, rectangles, ellipses, and polygons on an image object. To use the shape-drawing code, you need to import the ImageDraw module along with the Image module from the Pillow library in Python.\n",
    "\n",
    "Here's an example:"
   ]
  },
  {
   "cell_type": "markdown",
   "id": "a276b4d0",
   "metadata": {},
   "source": [
    "from PIL import Image, ImageDraw\n",
    "\n",
    "#Open the image file\n",
    "\n",
    "img = Image.open(\"example.png\")\n",
    "\n",
    "#Create an ImageDraw object\n",
    "\n",
    "draw = ImageDraw.Draw(img)\n",
    "\n",
    "#Draw a line on the image\n",
    "\n",
    "draw.line((0, 0, 100, 100), fill=(255, 0, 0), width=2)\n",
    "\n",
    "#Draw a rectangle on the image\n",
    "\n",
    "draw.rectangle((50, 50, 150, 150), outline=(0, 255, 0), width=2)\n",
    "\n",
    "#Save the modified image to a file\n",
    "\n",
    "img.save(\"modified_example.png\")\n"
   ]
  },
  {
   "cell_type": "markdown",
   "id": "9870c17e",
   "metadata": {},
   "source": []
  },
  {
   "cell_type": "markdown",
   "id": "cc1d0350",
   "metadata": {},
   "source": [
    "## 8.Image objects do not have drawing methods. What kind of object does? How do you get this kind of object?"
   ]
  },
  {
   "cell_type": "markdown",
   "id": "d53b2b50",
   "metadata": {},
   "source": [
    "That Image objects in Pillow module do not have drawing methods. Instead, we use ImageDraw objects to draw shapes and text on Image objects.\n",
    "\n",
    "To create an ImageDraw object, we first need to import it from the Pillow module. Here is an example code snippet:"
   ]
  },
  {
   "cell_type": "markdown",
   "id": "6c3f335a",
   "metadata": {},
   "source": [
    "from PIL import Image, ImageDraw\n",
    "\n",
    "#Create a new Image object\n",
    "\n",
    "img = Image.new(\"RGB\", (200, 200), (255, 255, 255))\n",
    "\n",
    "#Create an ImageDraw object\n",
    "\n",
    "draw = ImageDraw.Draw(img)\n",
    "\n",
    "#Draw a circle on the image\n",
    "\n",
    "draw.ellipse((50, 50, 150, 150), fill=(255, 0, 0))\n",
    "\n",
    "#Save the modified image\n",
    "\n",
    "img.save(\"circle.png\")\n"
   ]
  },
  {
   "cell_type": "code",
   "execution_count": null,
   "id": "d542f4be",
   "metadata": {},
   "outputs": [],
   "source": []
  }
 ],
 "metadata": {
  "kernelspec": {
   "display_name": "Python 3 (ipykernel)",
   "language": "python",
   "name": "python3"
  },
  "language_info": {
   "codemirror_mode": {
    "name": "ipython",
    "version": 3
   },
   "file_extension": ".py",
   "mimetype": "text/x-python",
   "name": "python",
   "nbconvert_exporter": "python",
   "pygments_lexer": "ipython3",
   "version": "3.9.12"
  }
 },
 "nbformat": 4,
 "nbformat_minor": 5
}
