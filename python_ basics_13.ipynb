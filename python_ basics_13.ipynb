{
 "cells": [
  {
   "cell_type": "markdown",
   "id": "d9bcc966",
   "metadata": {},
   "source": [
    "## 1. What advantages do Excel spreadsheets have over CSV spreadsheets?"
   ]
  },
  {
   "cell_type": "markdown",
   "id": "b97b287b",
   "metadata": {},
   "source": [
    "Excel spreadsheets have several advantages over CSV (Comma Separated Values) spreadsheets:\n",
    "\n",
    "\"Formatting\": Excel spreadsheets allow you to format cells with different fonts, colors, borders, and alignments, while CSV files only contain raw data separated by commas. This makes it easier to read and interpret data in Excel spreadsheets.\n",
    "\n",
    "\"Calculation\": Excel spreadsheets provide built-in functions and formulas to perform calculations on data, while CSV files require you to use an external tool or script to perform calculations.\n",
    "\n",
    "\"Graphical representation\": Excel spreadsheets allow you to create charts and graphs to visually represent data, while CSV files require you to use an external tool or script to create charts and graphs.\n",
    "\n",
    "\"Data validation\": Excel spreadsheets provide data validation features to ensure that data is entered correctly, while CSV files do not have this capability.\n",
    "\n",
    "\"Macros\": Excel spreadsheets allow you to create macros to automate repetitive tasks or perform complex operations, while CSV files do not have this capability.\n",
    "\n",
    "\"Collaboration\": Excel spreadsheets can be easily shared and collaborated on by multiple users, while CSV files are typically used for simple data transfer and are not suitable for collaborative work."
   ]
  },
  {
   "cell_type": "markdown",
   "id": "4a180753",
   "metadata": {},
   "source": [
    "## 2.What do you pass to csv.reader() and csv.writer() to create reader and writer objects?"
   ]
  },
  {
   "cell_type": "markdown",
   "id": "243a5c0b",
   "metadata": {},
   "source": [
    "To create reader and writer objects in the csv module, you pass a file object as the first argument to the csv.reader() and csv.writer() functions.\n",
    "\n",
    "For example, to create a reader object that reads data from a CSV file named data.csv, you would do the following:"
   ]
  },
  {
   "cell_type": "raw",
   "id": "aacfaccb",
   "metadata": {},
   "source": [
    "import csv\n",
    "\n",
    "with open('data.csv', 'r') as file:\n",
    "    reader = csv.reader(file)\n",
    "\n",
    "import csv\n",
    "\n",
    "with open('output.csv', 'w', newline='') as file:\n",
    "    writer = csv.writer(file)\n"
   ]
  },
  {
   "cell_type": "markdown",
   "id": "c353040b",
   "metadata": {},
   "source": [
    "In this example, we open the file output.csv in write mode using the open() function, and then pass the resulting file object to the csv.writer() function to create a writer object named writer. Note that we also pass the newline='' argument to the open() function to ensure that the output file uses the correct line endings on different operating systems."
   ]
  },
  {
   "cell_type": "markdown",
   "id": "6d4fd307",
   "metadata": {},
   "source": [
    "## 3.What modes do File objects for reader and writer objects need to be opened in?"
   ]
  },
  {
   "cell_type": "raw",
   "id": "ae300478",
   "metadata": {},
   "source": [
    "To create a reader object, you need to open the file object in read mode ('r').\n",
    "For example:\n",
    "\n",
    "import csv\n",
    "\n",
    "with open('data.csv', 'r') as file:\n",
    "    reader = csv.reader(file)\n",
    "    \n",
    "To create a writer object, you need to open the file object in write mode ('w'). \n",
    "For example:\n",
    "\n",
    "import csv\n",
    "\n",
    "with open('output.csv', 'w', newline='') as file:\n",
    "    writer = csv.writer(file)\n"
   ]
  },
  {
   "cell_type": "markdown",
   "id": "346efa55",
   "metadata": {},
   "source": [
    "## 4.What method takes a list argument and writes it to a CSV file?"
   ]
  },
  {
   "cell_type": "markdown",
   "id": "69f4cb18",
   "metadata": {},
   "source": [
    "To write data to a CSV file with the csv module, you use the writerow() method of the csv.writer object. This method takes a list argument that contains the data to be written to the file. Each element in the list corresponds to a cell in the CSV file, and the elements are separated by commas."
   ]
  },
  {
   "cell_type": "raw",
   "id": "bf1da0d9",
   "metadata": {},
   "source": [
    "import csv\n",
    "\n",
    "data = ['John', 'Doe', 25]\n",
    "with open('output.csv', 'w', newline='') as file:\n",
    "    writer = csv.writer(file)\n",
    "    writer.writerow(data)\n"
   ]
  },
  {
   "cell_type": "markdown",
   "id": "1447dc0d",
   "metadata": {},
   "source": [
    "## 5.What do the keyword arguments delimiter and line terminator do?"
   ]
  },
  {
   "cell_type": "raw",
   "id": "6fde05e4",
   "metadata": {},
   "source": [
    "delimiter: This keyword argument specifies the character that separates the fields in a CSV file. By default, the csv module uses a comma (',') as the delimiter. You can change the delimiter by passing a different character as the delimiter argument when creating a csv.reader or csv.writer object. \n",
    "For example:\n",
    "import csv\n",
    "\n",
    "with open('data.csv', 'r') as file:\n",
    "    reader = csv.reader(file, delimiter=';')\n",
    "\n",
    "lineterminator: This keyword argument specifies the character(s) that terminate each row in a CSV file. By default, the csv module uses the newline character (\\n) as the line terminator. You can change the line terminator by passing a different character(s) as the lineterminator argument when creating a csv.writer object. \n",
    "\n",
    "For example:\n",
    "import csv\n",
    "\n",
    "with open('output.csv', 'w', newline='') as file:\n",
    "    writer = csv.writer(file, lineterminator='\\r\\n')\n"
   ]
  },
  {
   "cell_type": "markdown",
   "id": "cdc2ba48",
   "metadata": {},
   "source": [
    "## 6.What function takes a string of JSON data and returns a Python data structure?"
   ]
  },
  {
   "cell_type": "markdown",
   "id": "e988d2d2",
   "metadata": {},
   "source": [
    "The json.loads() function is used to parse a string containing JSON data and convert it into a Python data structure."
   ]
  },
  {
   "cell_type": "code",
   "execution_count": 1,
   "id": "22ac6574",
   "metadata": {},
   "outputs": [
    {
     "name": "stdout",
     "output_type": "stream",
     "text": [
      "<class 'dict'>\n",
      "{'name': 'John Smith', 'age': 42}\n"
     ]
    }
   ],
   "source": [
    "import json\n",
    "\n",
    "json_string = '{\"name\": \"John Smith\", \"age\": 42}'\n",
    "python_data = json.loads(json_string)\n",
    "\n",
    "print(type(python_data))\n",
    "# Output: <class 'dict'>\n",
    "\n",
    "print(python_data)\n",
    "# Output: {'name': 'John Smith', 'age': 42}\n"
   ]
  },
  {
   "cell_type": "markdown",
   "id": "bd4e7b4b",
   "metadata": {},
   "source": [
    "## 7. What function takes a Python data structure and returns a string of JSON data?"
   ]
  },
  {
   "cell_type": "markdown",
   "id": "920935b5",
   "metadata": {},
   "source": [
    "The json.dumps() function is used to serialize a Python data structure into a JSON formatted string."
   ]
  },
  {
   "cell_type": "code",
   "execution_count": 2,
   "id": "37180649",
   "metadata": {},
   "outputs": [
    {
     "name": "stdout",
     "output_type": "stream",
     "text": [
      "<class 'str'>\n",
      "{\"name\": \"John Smith\", \"age\": 42}\n"
     ]
    }
   ],
   "source": [
    "import json\n",
    "\n",
    "python_data = {'name': 'John Smith', 'age': 42}\n",
    "json_string = json.dumps(python_data)\n",
    "\n",
    "print(type(json_string))\n",
    "# Output: <class 'str'>\n",
    "\n",
    "print(json_string)\n",
    "# Output: '{\"name\": \"John Smith\", \"age\": 42}'\n"
   ]
  },
  {
   "cell_type": "code",
   "execution_count": null,
   "id": "365c2ce6",
   "metadata": {},
   "outputs": [],
   "source": []
  }
 ],
 "metadata": {
  "kernelspec": {
   "display_name": "Python 3 (ipykernel)",
   "language": "python",
   "name": "python3"
  },
  "language_info": {
   "codemirror_mode": {
    "name": "ipython",
    "version": 3
   },
   "file_extension": ".py",
   "mimetype": "text/x-python",
   "name": "python",
   "nbconvert_exporter": "python",
   "pygments_lexer": "ipython3",
   "version": "3.9.12"
  }
 },
 "nbformat": 4,
 "nbformat_minor": 5
}
