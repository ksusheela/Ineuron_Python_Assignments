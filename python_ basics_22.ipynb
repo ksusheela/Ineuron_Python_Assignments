{
 "cells": [
  {
   "cell_type": "markdown",
   "id": "a1eadcc5",
   "metadata": {},
   "source": [
    "## 1.What is the result of the code, and explain?\n",
    "\n",
    "&gt;&gt;&gt; \n",
    "X = &#39;iNeuron&#39;\n",
    "\n",
    "&gt;&gt;&gt; def func():\n",
    "\n",
    "print(X)\n",
    "\n",
    "&gt;&gt;&gt; func()"
   ]
  },
  {
   "cell_type": "code",
   "execution_count": 1,
   "id": "cb225deb",
   "metadata": {},
   "outputs": [
    {
     "name": "stdout",
     "output_type": "stream",
     "text": [
      "iNeuron\n"
     ]
    }
   ],
   "source": [
    "X = 'iNeuron'\n",
    "\n",
    "def func():\n",
    "\n",
    "    print(X)\n",
    "\n",
    "func()"
   ]
  },
  {
   "cell_type": "markdown",
   "id": "6779921a",
   "metadata": {},
   "source": [
    "The code defines a variable X and assigns the string value 'iNeuron' to it. It then defines a function named func that, when called, prints the value of X.\n",
    "\n",
    "When the func() function is called, it prints the value of X, which is 'iNeuron', because the function has access to the global variable X"
   ]
  },
  {
   "cell_type": "markdown",
   "id": "92c1456f",
   "metadata": {},
   "source": [
    "## 2. What is the result of the code, and explain?"
   ]
  },
  {
   "cell_type": "code",
   "execution_count": 13,
   "id": "6498337a",
   "metadata": {},
   "outputs": [
    {
     "name": "stdout",
     "output_type": "stream",
     "text": [
      "pp\n",
      "ineuron\n"
     ]
    }
   ],
   "source": [
    "X='ineuron'\n",
    "def func():\n",
    "    x=\"NI!\"\n",
    "\n",
    "    print(X)\n",
    "    \n",
    "\n",
    "print(x)\n",
    "func()\n"
   ]
  },
  {
   "cell_type": "markdown",
   "id": "273ce921",
   "metadata": {},
   "source": [
    "## 3.What does this code print, and why?"
   ]
  },
  {
   "cell_type": "code",
   "execution_count": 15,
   "id": "d1fe8121",
   "metadata": {},
   "outputs": [
    {
     "name": "stdout",
     "output_type": "stream",
     "text": [
      "NI!\n",
      "ineuron\n"
     ]
    }
   ],
   "source": [
    "X='ineuron'\n",
    "def func():\n",
    "    X=\"NI!\"\n",
    "\n",
    "    print(X)\n",
    "    \n",
    "func()\n",
    "print(X)\n"
   ]
  },
  {
   "cell_type": "raw",
   "id": "eb168708",
   "metadata": {},
   "source": [
    "In this code, there are two variables named X. The first X is a global variable that is assigned the value 'ineuron'. The second X is a local variable that is defined within the func() function and assigned the value \"NI!\".\n",
    "\n",
    "When the func() function is called, it prints the value of its local X variable, which is \"NI!\". This is because within the function, the local X variable takes precedence over the global X variable.\n",
    "\n",
    "After calling the func() function, the code prints the value of the global X variable, which is still 'ineuron'. This is because the local X variable only exists within the scope of the func() function and does not affect the value of the global X variable."
   ]
  },
  {
   "cell_type": "markdown",
   "id": "0731b720",
   "metadata": {},
   "source": [
    "## 4 .What output does this code produce? Why?"
   ]
  },
  {
   "cell_type": "code",
   "execution_count": 18,
   "id": "656fe8ce",
   "metadata": {},
   "outputs": [
    {
     "name": "stdout",
     "output_type": "stream",
     "text": [
      "NI!\n",
      "NI!\n"
     ]
    }
   ],
   "source": [
    "X='ineuron'\n",
    "def func():\n",
    "    global X\n",
    "    X=\"NI!\"\n",
    "    print(X)\n",
    "    \n",
    "func()\n",
    "print(X)\n"
   ]
  },
  {
   "cell_type": "raw",
   "id": "216d680d",
   "metadata": {},
   "source": [
    "In this code, the global keyword is used to indicate that the X variable within the func() function is referring to the global variable X, rather than defining a new local variable with the same name. This means that any changes made to X within the function will affect the global variable."
   ]
  },
  {
   "cell_type": "markdown",
   "id": "016efd7a",
   "metadata": {},
   "source": [
    "## 5. What about this code—what’s the output, and why?"
   ]
  },
  {
   "cell_type": "code",
   "execution_count": 26,
   "id": "e40f68d3",
   "metadata": {
    "scrolled": false
   },
   "outputs": [
    {
     "data": {
      "text/plain": [
       "'ineuron'"
      ]
     },
     "execution_count": 26,
     "metadata": {},
     "output_type": "execute_result"
    }
   ],
   "source": [
    "X='ineuron'\n",
    "def func():\n",
    "    X=\"NI!\"\n",
    "    def nested():\n",
    "       \n",
    "        print(x)\n",
    "        nested()   \n",
    "    \n",
    "func()\n",
    "X\n"
   ]
  },
  {
   "cell_type": "raw",
   "id": "82459e70",
   "metadata": {},
   "source": [
    "In this code, a function func() is defined that assigns the value \"NI!\" to a local variable named X. Inside func(), another function named nested() is defined.\n",
    "\n",
    "Inside nested(), the print(X) statement attempts to print the value of the local variable X. However, the local variable X has not been assigned any value within the nested() function, so a UnboundLocalError will be raised when the function is called.\n",
    "\n",
    "The nested() function is called recursively within itself, causing an infinite loop that will continue until the program exceeds the maximum recursion depth and raises a RecursionError.\n",
    "\n",
    "The code outside of func() attempts to print the value of the global X variable, but since the program is stuck in an infinite loop inside nested(), this code will never be executed."
   ]
  },
  {
   "cell_type": "markdown",
   "id": "0f360a5f",
   "metadata": {},
   "source": [
    "## 6.How about this code: what is its output in Python 3, and explain?"
   ]
  },
  {
   "cell_type": "code",
   "execution_count": 31,
   "id": "79747bdb",
   "metadata": {},
   "outputs": [],
   "source": [
    "def func():\n",
    "    X=\"NI!\"\n",
    "    def nested():\n",
    "        nonlocal X\n",
    "        X='Spam'\n",
    "        \n",
    "        nested()\n",
    "        print(X)\n",
    "           \n",
    "    \n",
    "func()"
   ]
  },
  {
   "cell_type": "raw",
   "id": "5133c6bf",
   "metadata": {},
   "source": [
    "In this code, a function named func() is defined that assigns the value \"NI!\" to a local variable named X. Inside func(), another function named nested() is defined that uses the nonlocal keyword to indicate that it is referring to the X variable in the outer func() function.\n",
    "\n",
    "Inside nested(), the value of X is changed to \"Spam\". Then, the nested() function is called recursively within itself, causing an infinite loop that will continue until the program exceeds the maximum recursion depth and raises a RecursionError.\n",
    "\n",
    "Since the infinite loop prevents the function from ever reaching the print(X) statement, no output will be produced.\n",
    "\n",
    "Therefore, the code will result in an infinite loop followed by a RecursionError, and the output will not be produced."
   ]
  }
 ],
 "metadata": {
  "kernelspec": {
   "display_name": "Python 3 (ipykernel)",
   "language": "python",
   "name": "python3"
  },
  "language_info": {
   "codemirror_mode": {
    "name": "ipython",
    "version": 3
   },
   "file_extension": ".py",
   "mimetype": "text/x-python",
   "name": "python",
   "nbconvert_exporter": "python",
   "pygments_lexer": "ipython3",
   "version": "3.9.12"
  }
 },
 "nbformat": 4,
 "nbformat_minor": 5
}
