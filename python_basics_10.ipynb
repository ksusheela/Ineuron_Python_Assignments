{
 "cells": [
  {
   "cell_type": "markdown",
   "id": "9f7997e6",
   "metadata": {},
   "source": [
    "## 1.How do you distinguish between shutil.copy() and shutil.copytree()?"
   ]
  },
  {
   "cell_type": "markdown",
   "id": "910efd36",
   "metadata": {},
   "source": [
    "In Python, the shutil module provides a set of high-level operations on files and collections of files. Two of the methods in the shutil module are copy() and copytree(), which can be used to copy files and directories respectively.\n",
    "\n",
    "shutil.copy(src, dst): This method copies the file named src to a new file named dst. The src argument is the path of the file to be copied, while the dst argument is the path of the new file to be created. If dst is a directory, the file is copied into that directory with the same name. If dst already exists, it will be replaced by the copied file.\n",
    "\n",
    "shutil.copytree(src, dst): This method recursively copies the directory named src to a new directory named dst. The src argument is the path of the directory to be copied, while the dst argument is the path of the new directory to be created. If dst already exists, copytree() will raise a FileExistsError. If you want to overwrite the existing dst directory, you can use the shutil.rmtree() method to delete it first."
   ]
  },
  {
   "cell_type": "markdown",
   "id": "c7ac68dc",
   "metadata": {},
   "source": [
    "import shutil\n",
    "\n",
    "#Copy a single file\n",
    "\n",
    "shutil.copy('/path/to/src/file.txt', '/path/to/dst/file.txt')\n",
    "\n",
    "#Copy an entire directory\n",
    "\n",
    "shutil.copytree('/path/to/src/directory', '/path/to/dst/directory')\n"
   ]
  },
  {
   "cell_type": "markdown",
   "id": "bfbe13b8",
   "metadata": {},
   "source": [
    "## 2.What function is used to rename files??"
   ]
  },
  {
   "cell_type": "markdown",
   "id": "150a6896",
   "metadata": {},
   "source": [
    "In Python, the os.rename() function is used to rename files.\n",
    "\n",
    "The first argument to os.rename() is the current name of the file, and the second argument is the new name of the file. If the new name already exists, os.rename() will overwrite it without warning."
   ]
  },
  {
   "cell_type": "markdown",
   "id": "8bc44586",
   "metadata": {},
   "source": [
    "import os\n",
    "\n",
    "#Rename a file named 'oldname.txt' to 'newname.txt'\n",
    "\n",
    "os.rename('oldname.txt', 'newname.txt')\n"
   ]
  },
  {
   "cell_type": "markdown",
   "id": "f9c71225",
   "metadata": {},
   "source": [
    "## 3.What is the difference between the delete functions in the send2trash and shutil modules?"
   ]
  },
  {
   "cell_type": "markdown",
   "id": "17aacdab",
   "metadata": {},
   "source": [
    "The send2trash module provides a send2trash() function that sends files and folders to the operating system's trash or recycle bin, instead of permanently deleting them. This means that if you accidentally delete a file using send2trash(), you can recover it from the trash or recycle bin, just like any other deleted file. Here's an example:\n",
    "\n",
    "  import send2trash\n",
    "\n",
    "#Send a file to the trash\n",
    "\n",
    "send2trash.send2trash('filename.txt')\n"
   ]
  },
  {
   "cell_type": "markdown",
   "id": "b313b10d",
   "metadata": {},
   "source": [
    "In contrast, the shutil module provides a rmtree() function that recursively deletes a directory and all its contents, including any subdirectories and files. This function permanently deletes the files and folders, and they cannot be recovered from the trash or recycle bin. Here's an example:\n",
    "\n",
    "import shutil\n",
    "\n",
    "#Delete a directory and its contents\n",
    "\n",
    "shutil.rmtree('mydirectory')\n"
   ]
  },
  {
   "cell_type": "markdown",
   "id": "48e9d439",
   "metadata": {},
   "source": [
    "## 4.ZipFile objects have a close() method just like File objects’ close() method. What ZipFile method is equivalent to File objects’ open() method?"
   ]
  },
  {
   "cell_type": "markdown",
   "id": "dd76b5d6",
   "metadata": {},
   "source": [
    "The ZipFile method that is equivalent to File objects' open() method is the ZipFile constructor itself.\n",
    "\n",
    "Just like open() creates a file object and returns it, the ZipFile constructor creates a ZipFile object and returns it. You can use the ZipFile object to read, write, or modify the contents of a ZIP archive."
   ]
  },
  {
   "cell_type": "markdown",
   "id": "b3d7c061",
   "metadata": {},
   "source": [
    "import zipfile\n",
    "\n",
    "#Open a ZIP archive named 'myarchive.zip' for reading\n",
    "\n",
    "with zipfile.ZipFile('myarchive.zip', 'r') as myzip:\n",
    "    # Do something with the contents of the archive\n",
    "    pass\n",
    "\n",
    "#The 'myzip' object is automatically closed when the 'with' block is exited\n"
   ]
  },
  {
   "cell_type": "markdown",
   "id": "90614b7c",
   "metadata": {},
   "source": []
  },
  {
   "cell_type": "markdown",
   "id": "6eb14cbc",
   "metadata": {},
   "source": [
    "## 5.Create a programme that searches a folder tree for files with a certain file extension (such as .pdf or .jpg). Copy these files from whatever location they are in to a new folder."
   ]
  },
  {
   "cell_type": "markdown",
   "id": "8fb9696d",
   "metadata": {},
   "source": [
    "Here's an example program in Python that searches a folder tree for files with a certain file extension and copies them to a new folder:"
   ]
  },
  {
   "cell_type": "markdown",
   "id": "947bbb10",
   "metadata": {},
   "source": [
    "import os\n",
    "import shutil\n",
    "\n",
    "#Set the source and destination folders\n",
    "\n",
    "source_folder = 'path/to/source/folder'\n",
    "destination_folder = 'path/to/destination/folder'\n",
    "\n",
    "#Set the file extension to search for\n",
    "\n",
    "file_extension = '.pdf'\n",
    "\n",
    "#Create the destination folder if it doesn't already exist\n",
    "\n",
    "if not os.path.exists(destination_folder):\n",
    "    os.makedirs(destination_folder)\n",
    "\n",
    "#Walk the directory tree and copy files with the specified extension\n",
    "\n",
    "for root, dirs, files in os.walk(source_folder):\n",
    "    for filename in files:\n",
    "        if filename.endswith(file_extension):\n",
    "            source_file = os.path.join(root, filename)\n",
    "            destination_file = os.path.join(destination_folder, filename)\n",
    "            shutil.copy2(source_file, destination_file)\n"
   ]
  },
  {
   "cell_type": "code",
   "execution_count": null,
   "id": "24db427a",
   "metadata": {},
   "outputs": [],
   "source": []
  }
 ],
 "metadata": {
  "kernelspec": {
   "display_name": "Python 3 (ipykernel)",
   "language": "python",
   "name": "python3"
  },
  "language_info": {
   "codemirror_mode": {
    "name": "ipython",
    "version": 3
   },
   "file_extension": ".py",
   "mimetype": "text/x-python",
   "name": "python",
   "nbconvert_exporter": "python",
   "pygments_lexer": "ipython3",
   "version": "3.9.12"
  }
 },
 "nbformat": 4,
 "nbformat_minor": 5
}
