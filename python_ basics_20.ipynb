{
 "cells": [
  {
   "cell_type": "markdown",
   "id": "11271098",
   "metadata": {},
   "source": [
    "## 1.Set the variable test1 to the string &#39;This is a test of the emergency text system,&#39; and save test1 to a file named test.txt."
   ]
  },
  {
   "cell_type": "code",
   "execution_count": 1,
   "id": "8a82401d",
   "metadata": {},
   "outputs": [
    {
     "data": {
      "text/plain": [
       "'C:\\\\Users\\\\ADMIN'"
      ]
     },
     "execution_count": 1,
     "metadata": {},
     "output_type": "execute_result"
    }
   ],
   "source": [
    "import os \n",
    "os.getcwd()"
   ]
  },
  {
   "cell_type": "code",
   "execution_count": 2,
   "id": "284edfc6",
   "metadata": {},
   "outputs": [],
   "source": [
    "test1 = \"This is a test of the emergency text system,\"\n",
    "with open(\"test.txt\", \"w\") as f:\n",
    "    f.write(test1)"
   ]
  },
  {
   "cell_type": "markdown",
   "id": "d63c89ba",
   "metadata": {},
   "source": [
    "## 2.Read the contents of the file test.txt into the variable test2. Is there a difference between test 1 and test 2?"
   ]
  },
  {
   "cell_type": "code",
   "execution_count": 3,
   "id": "6bc483ad",
   "metadata": {},
   "outputs": [],
   "source": [
    "with open(\"test.txt\", \"r\") as f:\n",
    "    test2 = f.read()"
   ]
  },
  {
   "cell_type": "code",
   "execution_count": 4,
   "id": "d611139f",
   "metadata": {},
   "outputs": [
    {
     "data": {
      "text/plain": [
       "'This is a test of the emergency text system,'"
      ]
     },
     "execution_count": 4,
     "metadata": {},
     "output_type": "execute_result"
    }
   ],
   "source": [
    "test2"
   ]
  },
  {
   "cell_type": "raw",
   "id": "7fa2acab",
   "metadata": {},
   "source": [
    "the file test.txt only contained the string \"This is a test of the emergency text system,\" (which is what we saved to it in the previous step), then there should be no difference between test1 and test2. Both variables should contain the same string."
   ]
  },
  {
   "cell_type": "markdown",
   "id": "edcc9723",
   "metadata": {},
   "source": [
    "## 3.Create a CSV file called books.csv by using these lines: \n",
    "\n",
    "title,author,year \n",
    "The Weirdstone of Brisingamen,Alan Garner,1960 \n",
    "Perdido Street Station,China Miéville,2000 \n",
    "Thud!,Terry Pratchett,2005\n",
    "The Spellman Files,Lisa Lutz,2007\n",
    "Small Gods,Terry Pratchett,1992"
   ]
  },
  {
   "cell_type": "code",
   "execution_count": 5,
   "id": "ce1f354d",
   "metadata": {},
   "outputs": [],
   "source": [
    "import csv\n",
    "\n",
    "# Define the data as a list of dictionaries\n",
    "data = [\n",
    "    {\"title\": \"The Weirdstone of Brisingamen\", \"author\": \"Alan Garner\", \"year\": 1960},\n",
    "    {\"title\": \"Perdido Street Station\", \"author\": \"China Miéville\", \"year\": 2000},\n",
    "    {\"title\": \"Thud!\", \"author\": \"Terry Pratchett\", \"year\": 2005},\n",
    "    {\"title\": \"The Spellman Files\", \"author\": \"Lisa Lutz\", \"year\": 2007},\n",
    "    {\"title\": \"Small Gods\", \"author\": \"Terry Pratchett\", \"year\": 1992}\n",
    "]\n",
    "\n",
    "# Define the header row\n",
    "fields = [\"title\", \"author\", \"year\"]\n",
    "\n",
    "# Open the file in write mode\n",
    "with open(\"books.csv\", \"w\", newline=\"\") as f:\n",
    "\n",
    "    # Create a CSV writer object\n",
    "    writer = csv.DictWriter(f, fieldnames=fields)\n",
    "\n",
    "    # Write the header row\n",
    "    writer.writeheader()\n",
    "\n",
    "    # Write the data rows\n",
    "    writer.writerows(data)\n"
   ]
  },
  {
   "cell_type": "markdown",
   "id": "7bf437a0",
   "metadata": {},
   "source": [
    "## 4. Use the sqlite3 module to create a SQLite database called books.db, and a table called books with these fields: title (text), author (text), and year (integer)."
   ]
  },
  {
   "cell_type": "code",
   "execution_count": 6,
   "id": "9b7393be",
   "metadata": {},
   "outputs": [],
   "source": [
    "import sqlite3\n",
    "\n",
    "# Connect to the database (this will create a new file if it doesn't exist)\n",
    "conn = sqlite3.connect(\"books.db\")\n",
    "\n",
    "# Create a cursor object to execute SQL commands\n",
    "cursor = conn.cursor()\n",
    "\n",
    "# Create the books table with the specified fields\n",
    "cursor.execute(\"\"\"\n",
    "    CREATE TABLE books (\n",
    "        title TEXT,\n",
    "        author TEXT,\n",
    "        year INTEGER\n",
    "    )\n",
    "\"\"\")\n",
    "\n",
    "# Commit the changes to the database and close the connection\n",
    "conn.commit()\n",
    "conn.close()\n"
   ]
  },
  {
   "cell_type": "markdown",
   "id": "12cf7593",
   "metadata": {},
   "source": [
    "## 5.Read books.csv and insert its data into the book table."
   ]
  },
  {
   "cell_type": "code",
   "execution_count": 7,
   "id": "8c46ba41",
   "metadata": {},
   "outputs": [],
   "source": [
    "import csv\n",
    "import sqlite3\n",
    "\n",
    "# Connect to the database\n",
    "conn = sqlite3.connect(\"books.db\")\n",
    "\n",
    "# Create a cursor object to execute SQL commands\n",
    "cursor = conn.cursor()\n",
    "\n",
    "# Read the data from the CSV file\n",
    "with open(\"books.csv\", \"r\") as f:\n",
    "    reader = csv.DictReader(f)\n",
    "    for row in reader:\n",
    "        # Insert the data into the books table\n",
    "        cursor.execute(\"\"\"\n",
    "            INSERT INTO books (title, author, year)\n",
    "            VALUES (:title, :author, :year)\n",
    "        \"\"\", row)\n",
    "\n",
    "# Commit the changes to the database and close the connection\n",
    "conn.commit()\n",
    "conn.close()\n"
   ]
  },
  {
   "cell_type": "markdown",
   "id": "01b7e72f",
   "metadata": {},
   "source": [
    "## 6. Select and print the title column from the book table in alphabetical order."
   ]
  },
  {
   "cell_type": "code",
   "execution_count": 8,
   "id": "4a3efa6e",
   "metadata": {},
   "outputs": [
    {
     "name": "stdout",
     "output_type": "stream",
     "text": [
      "Perdido Street Station\n",
      "Small Gods\n",
      "The Spellman Files\n",
      "The Weirdstone of Brisingamen\n",
      "Thud!\n"
     ]
    }
   ],
   "source": [
    "import sqlite3\n",
    "\n",
    "# Connect to the database\n",
    "conn = sqlite3.connect(\"books.db\")\n",
    "\n",
    "# Create a cursor object to execute SQL commands\n",
    "cursor = conn.cursor()\n",
    "\n",
    "# Select the title column from the books table in alphabetical order\n",
    "cursor.execute(\"\"\"\n",
    "    SELECT title\n",
    "    FROM books\n",
    "    ORDER BY title ASC\n",
    "\"\"\")\n",
    "\n",
    "# Print the results\n",
    "for row in cursor.fetchall():\n",
    "    print(row[0])\n",
    "\n",
    "# Close the connection\n",
    "conn.close()\n"
   ]
  },
  {
   "cell_type": "markdown",
   "id": "73ce23ba",
   "metadata": {},
   "source": [
    "## 7. From the book table, select and print all columns in the order of publication."
   ]
  },
  {
   "cell_type": "code",
   "execution_count": 9,
   "id": "b298ec75",
   "metadata": {},
   "outputs": [
    {
     "name": "stdout",
     "output_type": "stream",
     "text": [
      "('The Weirdstone of Brisingamen', 'Alan Garner', 1960)\n",
      "('Small Gods', 'Terry Pratchett', 1992)\n",
      "('Perdido Street Station', 'China Miéville', 2000)\n",
      "('Thud!', 'Terry Pratchett', 2005)\n",
      "('The Spellman Files', 'Lisa Lutz', 2007)\n"
     ]
    }
   ],
   "source": [
    "import sqlite3\n",
    "\n",
    "# Connect to the database\n",
    "conn = sqlite3.connect(\"books.db\")\n",
    "\n",
    "# Create a cursor object to execute SQL commands\n",
    "cursor = conn.cursor()\n",
    "\n",
    "# Select all columns from the books table in the order of publication\n",
    "cursor.execute(\"\"\"\n",
    "    SELECT *\n",
    "    FROM books\n",
    "    ORDER BY year ASC\n",
    "\"\"\")\n",
    "\n",
    "# Print the results\n",
    "for row in cursor.fetchall():\n",
    "    print(row)\n",
    "\n",
    "# Close the connection\n",
    "conn.close()\n"
   ]
  },
  {
   "cell_type": "markdown",
   "id": "0ae09c5e",
   "metadata": {},
   "source": [
    "## 8.Use the sqlalchemy module to connect to the sqlite3 database books.db that you just made in exercise 6."
   ]
  },
  {
   "cell_type": "code",
   "execution_count": 10,
   "id": "0d8cf7f5",
   "metadata": {},
   "outputs": [],
   "source": [
    "from sqlalchemy import create_engine\n",
    "\n",
    "# Create an engine to connect to the books.db database\n",
    "engine = create_engine(\"sqlite:///books.db\")\n",
    "\n",
    "# Connect to the database using the engine\n",
    "conn = engine.connect()\n",
    "\n",
    "# ...do some database operations...\n",
    "\n",
    "# Close the connection\n",
    "conn.close()\n"
   ]
  },
  {
   "cell_type": "markdown",
   "id": "63941e28",
   "metadata": {},
   "source": [
    "## 9. Install the Redis server and the Python redis library (pip install redis) on your computer. Create a Redis hash called test with the fields count (1) and name (&#39;Fester Bestertester&#39;). Print all the fields for test."
   ]
  },
  {
   "cell_type": "raw",
   "id": "dbe79f6d",
   "metadata": {},
   "source": [
    "import redis\n",
    "\n",
    "# Connect to the Redis server running on localhost\n",
    "redis_client = redis.Redis(host='localhost', port=6379, db=0)\n",
    "\n",
    "# Create a Redis hash called 'test'\n",
    "redis_client.hset('test', 'count', 1)\n",
    "redis_client.hset('test', 'name', 'Fester Bestertester')\n",
    "\n",
    "# Print all the fields for 'test'\n",
    "print(redis_client.hgetall('test'))\n"
   ]
  },
  {
   "cell_type": "markdown",
   "id": "93d26150",
   "metadata": {},
   "source": [
    "## 10.Increment the count field of test and print it."
   ]
  },
  {
   "cell_type": "raw",
   "id": "8c5b6bf6",
   "metadata": {},
   "source": [
    "import redis\n",
    "\n",
    "# Connect to the Redis server running on localhost\n",
    "redis_client = redis.Redis(host='localhost', port=6379, db=0)\n",
    "\n",
    "# Increment the 'count' field of 'test'\n",
    "redis_client.hincrby('test', 'count', 1)\n",
    "\n",
    "# Print the new value of 'count'\n",
    "print(redis_client.hget('test', 'count'))\n"
   ]
  },
  {
   "cell_type": "code",
   "execution_count": null,
   "id": "1cfd088d",
   "metadata": {},
   "outputs": [],
   "source": []
  }
 ],
 "metadata": {
  "kernelspec": {
   "display_name": "Python 3 (ipykernel)",
   "language": "python",
   "name": "python3"
  },
  "language_info": {
   "codemirror_mode": {
    "name": "ipython",
    "version": 3
   },
   "file_extension": ".py",
   "mimetype": "text/x-python",
   "name": "python",
   "nbconvert_exporter": "python",
   "pygments_lexer": "ipython3",
   "version": "3.9.12"
  }
 },
 "nbformat": 4,
 "nbformat_minor": 5
}
