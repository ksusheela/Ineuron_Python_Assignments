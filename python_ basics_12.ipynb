{
 "cells": [
  {
   "cell_type": "markdown",
   "id": "b92d69fa",
   "metadata": {},
   "source": [
    "## 1.In what modes should the PdfFileReader() and PdfFileWriter() File objects will be opened?"
   ]
  },
  {
   "cell_type": "markdown",
   "id": "f527b4df",
   "metadata": {},
   "source": [
    "When using the PyPDF2 library in Python to read and write PDF files, the PdfFileReader() and PdfFileWriter() objects should be opened in the binary mode ('rb' for read and 'wb' for write) as PDF files are binary files."
   ]
  },
  {
   "cell_type": "raw",
   "id": "c403aae3",
   "metadata": {},
   "source": [
    "import PyPDF2\n",
    "\n",
    "with open('example.pdf', 'rb') as file:\n",
    "    pdf_reader = PyPDF2.PdfFileReader(file)\n",
    "    # do something with the pdf_reader object\n"
   ]
  },
  {
   "cell_type": "raw",
   "id": "4ec56074",
   "metadata": {},
   "source": [
    "import PyPDF2\n",
    "\n",
    "with open('output.pdf', 'wb') as file:\n",
    "    pdf_writer = PyPDF2.PdfFileWriter()\n",
    "    # do something with the pdf_writer object\n",
    "    pdf_writer.write(file)\n"
   ]
  },
  {
   "cell_type": "markdown",
   "id": "268f8c97",
   "metadata": {},
   "source": [
    "## 2.From a PdfFileReader object, how do you get a Page object for page 5?"
   ]
  },
  {
   "cell_type": "markdown",
   "id": "e7acd903",
   "metadata": {},
   "source": [
    "To get a Page object for a specific page in a PDF using PyPDF2, you can use the getPage() method of the PdfFileReader object."
   ]
  },
  {
   "cell_type": "raw",
   "id": "73b11fa0",
   "metadata": {},
   "source": [
    "import PyPDF2\n",
    "\n",
    "with open('example.pdf', 'rb') as file:\n",
    "    pdf_reader = PyPDF2.PdfFileReader(file)\n",
    "    page = pdf_reader.getPage(4) # page numbering starts at 0, so page 5 is index 4\n",
    "    # do something with the page object\n"
   ]
  },
  {
   "cell_type": "markdown",
   "id": "2dc1eb8d",
   "metadata": {},
   "source": [
    "## 3.What PdfFileReader variable stores the number of pages in the PDF document?"
   ]
  },
  {
   "cell_type": "markdown",
   "id": "a59dbe00",
   "metadata": {},
   "source": [
    "The numPages variable of the PdfFileReader object stores the number of pages in a PDF document."
   ]
  },
  {
   "cell_type": "raw",
   "id": "91989b46",
   "metadata": {},
   "source": [
    "import PyPDF2\n",
    "\n",
    "with open('example.pdf', 'rb') as file:\n",
    "    pdf_reader = PyPDF2.PdfFileReader(file)\n",
    "    num_pages = pdf_reader.numPages\n",
    "    print(\"Number of pages:\", num_pages)\n"
   ]
  },
  {
   "cell_type": "markdown",
   "id": "35a85ad2",
   "metadata": {},
   "source": [
    "## 4.If a PdfFileReader object’s PDF is encrypted with the password swordfish, what must you dobefore you can obtain Page objects from it?"
   ]
  },
  {
   "cell_type": "markdown",
   "id": "98309bef",
   "metadata": {},
   "source": [
    "If a PdfFileReader object's PDF is encrypted with a password, you must first decrypt the PDF using the decrypt() method and the correct password before you can obtain Page objects from it."
   ]
  },
  {
   "cell_type": "raw",
   "id": "d715a76f",
   "metadata": {},
   "source": [
    "import PyPDF2\n",
    "\n",
    "with open('encrypted.pdf', 'rb') as file:\n",
    "    pdf_reader = PyPDF2.PdfFileReader(file)\n",
    "    if pdf_reader.isEncrypted:\n",
    "        pdf_reader.decrypt('swordfish')\n",
    "    # Now you can obtain Page objects from the PdfFileReader object\n",
    "    page = pdf_reader.getPage(0)\n",
    "    # do something with the page object\n"
   ]
  },
  {
   "cell_type": "markdown",
   "id": "50291cdf",
   "metadata": {},
   "source": [
    "## 5.What methods do you use to rotate a page?"
   ]
  },
  {
   "cell_type": "markdown",
   "id": "2cd01599",
   "metadata": {},
   "source": [
    "You can use the rotateClockwise() and rotateCounterClockwise() methods of a Page object in PyPDF2 to rotate a page clockwise and counterclockwise, respectively. You can also set a specific rotation angle using the rotateClockwise() method with an angle argument."
   ]
  },
  {
   "cell_type": "raw",
   "id": "cc11b9e1",
   "metadata": {},
   "source": [
    "import PyPDF2\n",
    "\n",
    "with open('example.pdf', 'rb') as file:\n",
    "    pdf_reader = PyPDF2.PdfFileReader(file)\n",
    "    page = pdf_reader.getPage(0) # get the first page of the PDF\n",
    "\n",
    "    # rotate the page 90 degrees clockwise\n",
    "    page.rotateClockwise(90)\n",
    "\n",
    "    # rotate the page 180 degrees counterclockwise\n",
    "    page.rotateCounterClockwise(180)\n",
    "\n",
    "    # set the page rotation to a specific angle (in degrees)\n",
    "    page.rotateClockwise(45)\n"
   ]
  },
  {
   "cell_type": "markdown",
   "id": "b0df64d8",
   "metadata": {},
   "source": [
    "## 6. What is the difference between a Run object and a Paragraph object?"
   ]
  },
  {
   "cell_type": "markdown",
   "id": "bafce2c2",
   "metadata": {},
   "source": [
    "In Microsoft Word, a Paragraph object represents a single paragraph of text and contains all the text and formatting within that paragraph. A Run object, on the other hand, represents a contiguous run of characters within a paragraph that all share the same set of character-level formatting attributes.\n",
    "\n",
    "In other words, a Paragraph object is a container for Run objects. It contains all the text and formatting within a single paragraph, including multiple runs if the paragraph contains text with different formatting attributes."
   ]
  },
  {
   "cell_type": "raw",
   "id": "47df2b5d",
   "metadata": {},
   "source": [
    "import docx\n",
    "\n",
    "doc = docx.Document('example.docx')\n",
    "paragraph = doc.paragraphs[0]  # get the first paragraph in the document\n",
    "\n",
    "# print the text of the first paragraph\n",
    "print(paragraph.text)\n",
    "\n",
    "# print the runs within the first paragraph\n",
    "for run in paragraph.runs:\n",
    "    print(run.text, run.bold, run.italic, run.underline)\n"
   ]
  },
  {
   "cell_type": "markdown",
   "id": "c512d339",
   "metadata": {},
   "source": [
    "we first open a Word document using the docx library and get the first paragraph in the document. We then print the text of the first paragraph using the text attribute of the Paragraph object. Finally, we iterate over the runs within the first paragraph using the runs attribute of the Paragraph object, and print the text and formatting attributes (bold, italic, and underline) of each Run object."
   ]
  },
  {
   "cell_type": "markdown",
   "id": "ae1502d4",
   "metadata": {},
   "source": [
    "## 7. How do you obtain a list of Paragraph objects for a Document object that’s stored in a variable named doc?"
   ]
  },
  {
   "cell_type": "markdown",
   "id": "725176d0",
   "metadata": {},
   "source": [
    "To obtain a list of Paragraph objects for a Document object stored in a variable named doc, you can use the paragraphs attribute of the Document object. The paragraphs attribute returns a list of all the Paragraph objects in the document, in the order they appear."
   ]
  },
  {
   "cell_type": "raw",
   "id": "84c495d2",
   "metadata": {},
   "source": [
    "import docx\n",
    "\n",
    "doc = docx.Document('example.docx')\n",
    "\n",
    "# get a list of all paragraphs in the document\n",
    "paragraphs = doc.paragraphs\n",
    "\n",
    "# print the text of each paragraph in the list\n",
    "for paragraph in paragraphs:\n",
    "    print(paragraph.text)\n"
   ]
  },
  {
   "cell_type": "markdown",
   "id": "604157a4",
   "metadata": {},
   "source": [
    "## 8.What type of object has bold, underline, italic, strike, and outline variables?"
   ]
  },
  {
   "cell_type": "markdown",
   "id": "3f3955e9",
   "metadata": {},
   "source": [
    "In Microsoft Word, the Font object has bold, underline, italic, strike, and outline variables.\n",
    "\n",
    "The Font object represents the formatting of a range of text in a Word document, including the font family, size, color, and various character-level formatting attributes. The bold, underline, italic, strike, and outline variables are Boolean variables that indicate whether the corresponding formatting attribute is applied to the text represented by the Font object."
   ]
  },
  {
   "cell_type": "raw",
   "id": "6283620e",
   "metadata": {},
   "source": [
    "import docx\n",
    "\n",
    "doc = docx.Document('example.docx')\n",
    "paragraph = doc.paragraphs[0]  # get the first paragraph in the document\n",
    "font = paragraph.runs[0].font  # get the font of the first run in the paragraph\n",
    "\n",
    "# check if the first run is bold, underlined, italicized, striked, and outlined\n",
    "print(font.bold, font.underline, font.italic, font.strike, font.outline)\n"
   ]
  },
  {
   "cell_type": "markdown",
   "id": "85b4c172",
   "metadata": {},
   "source": [
    "## 9. What is the difference between False, True, and None for the bold variable?"
   ]
  },
  {
   "cell_type": "markdown",
   "id": "4742c255",
   "metadata": {},
   "source": [
    "In Microsoft Word, the bold variable of a Font object can have three possible values: True, False, or None.\n",
    "\n",
    "True: The text represented by the Font object is formatted with boldface.\n",
    "\n",
    "False: The text represented by the Font object is not formatted with boldface.\n",
    "\n",
    "None: The text represented by the Font object has mixed formatting for the boldface attribute. This can happen when the text contains a mix of bold and non-bold text, or when the bold formatting is applied to only part of the text."
   ]
  },
  {
   "cell_type": "raw",
   "id": "38d8da55",
   "metadata": {},
   "source": [
    "import docx\n",
    "\n",
    "doc = docx.Document('example.docx')\n",
    "paragraph = doc.paragraphs[0]  # get the first paragraph in the document\n",
    "font = paragraph.runs[0].font  # get the font of the first run in the paragraph\n",
    "\n",
    "# check the value of the bold variable of the font\n",
    "if font.bold is True:\n",
    "    print(\"The text is bold\")\n",
    "elif font.bold is False:\n",
    "    print(\"The text is not bold\")\n",
    "else:\n",
    "    print(\"The text has mixed bold formatting\")\n"
   ]
  },
  {
   "cell_type": "markdown",
   "id": "cb72146d",
   "metadata": {},
   "source": [
    "## 10. How do you create a Document object for a new Word document?"
   ]
  },
  {
   "cell_type": "markdown",
   "id": "300df32d",
   "metadata": {},
   "source": [
    "To create a new Word document using the docx library in Python, you can create a Document object without any arguments. This creates a new, empty Word document in memory."
   ]
  },
  {
   "cell_type": "raw",
   "id": "ab781d76",
   "metadata": {},
   "source": [
    "import docx\n",
    "\n",
    "doc = docx.Document()  # create a new, empty Word document\n",
    "\n",
    "# add some text to the document\n",
    "doc.add_paragraph('This is the first paragraph.')\n",
    "doc.add_paragraph('This is the second paragraph.')\n",
    "doc.add_heading('This is a heading', level=1)\n",
    "\n",
    "# save the document to a file\n",
    "doc.save('new_document.docx')\n"
   ]
  },
  {
   "cell_type": "markdown",
   "id": "384d97d4",
   "metadata": {},
   "source": [
    "## 11. How do you add a paragraph with the text &#39;Hello, there!&#39; to a Document object stored in avariable named doc?"
   ]
  },
  {
   "cell_type": "markdown",
   "id": "c67fd9a2",
   "metadata": {},
   "source": [
    "To add a paragraph with the text \"Hello, there!\" to a Document object stored in a variable named doc, you can use the add_paragraph() method of the Document object.\n",
    "\n"
   ]
  },
  {
   "cell_type": "raw",
   "id": "6a9b9621",
   "metadata": {},
   "source": [
    "import docx\n",
    "\n",
    "doc = docx.Document()  # create a new, empty Word document\n",
    "doc.add_paragraph('Hello, there!')  # add a paragraph with the text 'Hello, there!'\n",
    "\n",
    "# save the document to a file\n",
    "doc.save('new_document.docx')\n"
   ]
  },
  {
   "cell_type": "markdown",
   "id": "268e35a2",
   "metadata": {},
   "source": [
    "## 12. What integers represent the levels of headings available in Word documents?"
   ]
  },
  {
   "cell_type": "raw",
   "id": "e8d6b44c",
   "metadata": {},
   "source": [
    "In Word documents, there are nine levels of headings available, each represented by an integer from 1 to 9:\n",
    "\n",
    "Level 1: wdHeading1 (integer value: 1)\n",
    "Level 2: wdHeading2 (integer value: 2)\n",
    "Level 3: wdHeading3 (integer value: 3)\n",
    "Level 4: wdHeading4 (integer value: 4)\n",
    "Level 5: wdHeading5 (integer value: 5)\n",
    "Level 6: wdHeading6 (integer value: 6)\n",
    "Level 7: wdHeading7 (integer value: 7)\n",
    "Level 8: wdHeading8 (integer value: 8)\n",
    "Level 9: wdHeading9 (integer value: 9)"
   ]
  },
  {
   "cell_type": "markdown",
   "id": "8363051a",
   "metadata": {},
   "source": [
    "These integer values are defined in the constants module of the win32com library, which is used to automate Word from Python. To use these constants, you need to import them from the constants module, like this:"
   ]
  },
  {
   "cell_type": "raw",
   "id": "6ec42de0",
   "metadata": {},
   "source": [
    "from win32com.client import constants\n",
    "\n",
    "# use the wdHeading1 constant to set a heading level\n",
    "doc.add_heading('This is a level 1 heading', level=constants.wdHeading1)\n"
   ]
  },
  {
   "cell_type": "code",
   "execution_count": null,
   "id": "615f5815",
   "metadata": {},
   "outputs": [],
   "source": []
  }
 ],
 "metadata": {
  "kernelspec": {
   "display_name": "Python 3 (ipykernel)",
   "language": "python",
   "name": "python3"
  },
  "language_info": {
   "codemirror_mode": {
    "name": "ipython",
    "version": 3
   },
   "file_extension": ".py",
   "mimetype": "text/x-python",
   "name": "python",
   "nbconvert_exporter": "python",
   "pygments_lexer": "ipython3",
   "version": "3.9.12"
  }
 },
 "nbformat": 4,
 "nbformat_minor": 5
}
