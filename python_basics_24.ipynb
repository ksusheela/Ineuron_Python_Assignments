{
 "cells": [
  {
   "cell_type": "markdown",
   "id": "0c53c728",
   "metadata": {},
   "source": [
    "## 1.What is the relationship between def statements and lambda expressions ?"
   ]
  },
  {
   "cell_type": "code",
   "execution_count": 1,
   "id": "7d68c568",
   "metadata": {},
   "outputs": [],
   "source": [
    "def function_name(parameters):\n",
    "    # function body\n",
    "    return value\n"
   ]
  },
  {
   "cell_type": "code",
   "execution_count": 2,
   "id": "d6f9b690",
   "metadata": {},
   "outputs": [
    {
     "data": {
      "text/plain": [
       "<function __main__.<lambda>(parameters)>"
      ]
     },
     "execution_count": 2,
     "metadata": {},
     "output_type": "execute_result"
    }
   ],
   "source": [
    "lambda parameters: expression"
   ]
  },
  {
   "cell_type": "raw",
   "id": "d1b2932b",
   "metadata": {},
   "source": [
    "So, while def statements and lambda expressions both define functions, they are used in different contexts and have different syntax. Def statements are used for named functions that can be reused multiple times, while lambda expressions are used for small anonymous functions that are often used only once."
   ]
  },
  {
   "cell_type": "markdown",
   "id": "2fcbb369",
   "metadata": {},
   "source": [
    "## 2.What is the benefit of lambda?"
   ]
  },
  {
   "cell_type": "markdown",
   "id": "74f3fa23",
   "metadata": {},
   "source": [
    "One of the main benefits of lambda expressions in Python is their simplicity and conciseness. Lambda expressions are a way to define small anonymous functions in a single line of code, which can be useful for simple tasks that don't require a full function definition.\n",
    "\n",
    "Here are some of the benefits of using lambda expressions in Python:\n",
    "\n",
    "Concise code: Lambda expressions allow you to define a function in a single line of code, making your code more concise and easier to read.\n",
    "\n",
    "Anonymous functions: Lambda expressions allow you to define functions without assigning them a name. This can be useful when you only need to use the function once.\n",
    "\n",
    "Functional programming: Lambda expressions are a key feature of functional programming, which is a programming paradigm that emphasizes the use of functions as first-class objects.\n",
    "\n",
    "Flexibility: Lambda expressions can be used in a variety of contexts, such as with the map() and filter() functions, where they provide a concise way to define simple functions without the need for a full function definition"
   ]
  },
  {
   "cell_type": "markdown",
   "id": "b695047e",
   "metadata": {},
   "source": [
    "## 3.Compare and contrast map, filter, and reduce."
   ]
  },
  {
   "cell_type": "markdown",
   "id": "0ae81cca",
   "metadata": {},
   "source": [
    "The map() function applies a given function to each element of an iterable and returns a new iterable with the transformed values. The syntax for the map() function is:"
   ]
  },
  {
   "cell_type": "markdown",
   "id": "2349ffec",
   "metadata": {},
   "source": [
    "map(function, iterable)\n"
   ]
  },
  {
   "cell_type": "code",
   "execution_count": 8,
   "id": "ee02a778",
   "metadata": {},
   "outputs": [
    {
     "name": "stdout",
     "output_type": "stream",
     "text": [
      "[2, 4, 6, 8]\n"
     ]
    }
   ],
   "source": [
    "nums = [1, 2, 3, 4]\n",
    "doubled_nums = map(lambda x: x * 2, nums)\n",
    "print(list(doubled_nums))\n",
    "# Output: [2, 4, 6, 8]\n"
   ]
  },
  {
   "cell_type": "markdown",
   "id": "dcb80abd",
   "metadata": {},
   "source": [
    "The filter() function applies a given function to each element of an iterable and returns a new iterable containing only the elements for which the function returns True. The syntax for the filter() function is:"
   ]
  },
  {
   "cell_type": "markdown",
   "id": "5995e0f1",
   "metadata": {},
   "source": [
    "filter(function, iterable)\n"
   ]
  },
  {
   "cell_type": "code",
   "execution_count": 5,
   "id": "c187e471",
   "metadata": {},
   "outputs": [
    {
     "name": "stdout",
     "output_type": "stream",
     "text": [
      "[2, 4]\n"
     ]
    }
   ],
   "source": [
    "nums = [1, 2, 3, 4]\n",
    "even_nums = filter(lambda x: x % 2 == 0, nums)\n",
    "print(list(even_nums))\n",
    "# Output: [2, 4]\n"
   ]
  },
  {
   "cell_type": "markdown",
   "id": "f7e30a86",
   "metadata": {},
   "source": [
    "The reduce() function applies a given function to the first two elements of an iterable, then to the result and the next element, and so on, until all elements have been processed and a single result is returned. The syntax for the reduce() function is:"
   ]
  },
  {
   "cell_type": "markdown",
   "id": "310d0683",
   "metadata": {},
   "source": [
    "reduce(function, iterable)\n"
   ]
  },
  {
   "cell_type": "code",
   "execution_count": 6,
   "id": "5bc2a1fd",
   "metadata": {},
   "outputs": [
    {
     "name": "stdout",
     "output_type": "stream",
     "text": [
      "24\n"
     ]
    }
   ],
   "source": [
    "from functools import reduce\n",
    "nums = [1, 2, 3, 4]\n",
    "product = reduce(lambda x, y: x * y, nums)\n",
    "print(product)\n",
    "# Output: 24\n"
   ]
  },
  {
   "cell_type": "markdown",
   "id": "7102b3b6",
   "metadata": {},
   "source": [
    "## 4.What are function annotations, and how are they used?"
   ]
  },
  {
   "cell_type": "markdown",
   "id": "c265454f",
   "metadata": {},
   "source": [
    "Function annotations are a feature in Python that allows you to add metadata to the parameters and return value of a function. Function annotations are expressed as expressions that are associated with the function arguments and return value using the -> syntax."
   ]
  },
  {
   "cell_type": "code",
   "execution_count": 9,
   "id": "bae8d3fa",
   "metadata": {},
   "outputs": [],
   "source": [
    "def greet(name: str, age: int) -> str:\n",
    "    return f\"Hello, {name}! You are {age} years old.\"\n"
   ]
  },
  {
   "cell_type": "markdown",
   "id": "350d1117",
   "metadata": {},
   "source": [
    "Here are some common use cases for function annotations:\n",
    "\n",
    "Documentation: Function annotations can be used to document the expected types of function arguments and the return value. This can help make your code more readable and self-explanatory.\n",
    "\n",
    "Type hinting: Function annotations can be used as part of a type hinting system to help identify potential type errors in your code. Type hints are optional, but they can be useful for catching errors before your code is run.\n",
    "\n",
    "Code generation: Some tools use function annotations to generate code automatically, such as API documentation, serialization and deserialization code, and database schema generation code."
   ]
  },
  {
   "cell_type": "markdown",
   "id": "a0af0622",
   "metadata": {},
   "source": [
    "## 5.What are recursive functions, and how are they used?"
   ]
  },
  {
   "cell_type": "markdown",
   "id": "bfc6ccb1",
   "metadata": {},
   "source": [
    "Recursive functions are functions that call themselves, either directly or indirectly. Recursive functions can be used to solve problems that can be broken down into smaller, similar subproblems.\n",
    "\n",
    "A recursive function typically has two parts: a base case and a recursive case. The base case is a condition that stops the recursion, while the recursive case is a condition that calls the function again with a smaller input"
   ]
  },
  {
   "cell_type": "code",
   "execution_count": 10,
   "id": "f01f9336",
   "metadata": {},
   "outputs": [],
   "source": [
    "def factorial(n):\n",
    "    if n == 0:\n",
    "        return 1\n",
    "    else:\n",
    "        return n * factorial(n-1)\n"
   ]
  },
  {
   "cell_type": "markdown",
   "id": "84ce8c2d",
   "metadata": {},
   "source": [
    "## 6.What are some general design guidelines for coding functions?"
   ]
  },
  {
   "cell_type": "markdown",
   "id": "520d03a3",
   "metadata": {},
   "source": [
    "Function names should be descriptive and should indicate what the function does. Use verbs for function names (e.g. calculate, find, create, validate) to make them action-oriented.\n",
    "\n",
    "Functions should do one thing and do it well. A function should have a single responsibility and should not try to do too much.\n",
    "\n",
    "Functions should be small and concise. Functions should be easy to read and understand, and should fit on a single screen if possible.\n",
    "\n",
    "Functions should have a clear and well-defined interface. The function's inputs, outputs, and behavior should be well documented and easy to understand.\n",
    "\n",
    "Functions should not have side effects. A function should not modify global variables, modify external files, or have other unexpected consequences.\n",
    "\n",
    "Functions should handle errors and exceptions gracefully. Functions should handle unexpected inputs and errors in a way that is clear and understandable.\n",
    "\n",
    "Functions should be easy to test. Functions should be designed in a way that makes them easy to test, with clear inputs and outputs.\n",
    "\n",
    "Functions should be reusable. Functions should be designed in a way that makes them easy to reuse in other parts of the code."
   ]
  },
  {
   "cell_type": "markdown",
   "id": "2f6e1b31",
   "metadata": {},
   "source": [
    "## 7.Name three or more ways that functions can communicate results to a caller."
   ]
  },
  {
   "cell_type": "markdown",
   "id": "511ac106",
   "metadata": {},
   "source": [
    "Here are three ways that functions can communicate results to a caller:\n",
    "\n",
    "Return values: Functions can use the return keyword to send a value back to the caller. The value can be a single value or a collection of values, such as a tuple or a list.\n",
    "\n",
    "Side effects: Functions can modify variables or objects outside of their scope, such as changing the state of an object, modifying a global variable, or writing to a file.\n",
    "\n",
    "Exceptions: Functions can raise exceptions to signal that an error or unexpected condition has occurred. The caller can catch the exception and handle it appropriately.\n",
    "\n",
    "Print statements: Functions can use print statements to display information on the console or in a log file. This is a less common way of communicating results since it is primarily used for debugging purposes, but it can still be useful in certain situations."
   ]
  },
  {
   "cell_type": "code",
   "execution_count": null,
   "id": "fb6a535e",
   "metadata": {},
   "outputs": [],
   "source": []
  }
 ],
 "metadata": {
  "kernelspec": {
   "display_name": "Python 3 (ipykernel)",
   "language": "python",
   "name": "python3"
  },
  "language_info": {
   "codemirror_mode": {
    "name": "ipython",
    "version": 3
   },
   "file_extension": ".py",
   "mimetype": "text/x-python",
   "name": "python",
   "nbconvert_exporter": "python",
   "pygments_lexer": "ipython3",
   "version": "3.9.12"
  }
 },
 "nbformat": 4,
 "nbformat_minor": 5
}
