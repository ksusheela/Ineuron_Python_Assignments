{
 "cells": [
  {
   "cell_type": "markdown",
   "id": "7eb60ea2",
   "metadata": {},
   "source": [
    "## 1. What does an empty dictionary&#39;s code look like?"
   ]
  },
  {
   "cell_type": "code",
   "execution_count": null,
   "id": "a55c0618",
   "metadata": {},
   "outputs": [],
   "source": [
    "dict = {}\n",
    "Eg:--\n",
    "    \n",
    "dct = {}\n",
    " bool(dct)\n",
    "False\n",
    "not dct\n",
    "True"
   ]
  },
  {
   "cell_type": "markdown",
   "id": "d8cd8131",
   "metadata": {},
   "source": [
    "## 2. What is the value of a dictionary value with the key &#39;foo&#39; and the value 42?"
   ]
  },
  {
   "cell_type": "code",
   "execution_count": null,
   "id": "8fd6aa25",
   "metadata": {},
   "outputs": [],
   "source": [
    "my_dict = {'foo': 42}\n",
    "value = my_dict['foo']\n",
    "print(value) # Output: 42"
   ]
  },
  {
   "cell_type": "markdown",
   "id": "f6702aaa",
   "metadata": {},
   "source": [
    " ## 3. What is the most significant distinction between a dictionary and a list?"
   ]
  },
  {
   "cell_type": "markdown",
   "id": "0732cca1",
   "metadata": {},
   "source": [
    " lists are ordered collections of values that are accessed by their position or index,\n",
    "while dictionaries are unordered collections of key-value pairs\n",
    "that are accessed by their unique key."
   ]
  },
  {
   "cell_type": "markdown",
   "id": "745d8344",
   "metadata": {},
   "source": [
    "## 4. What happens if you try to access spam[\"foo\"]  if spam is {\"bar\":100}"
   ]
  },
  {
   "cell_type": "code",
   "execution_count": null,
   "id": "414f5d3e",
   "metadata": {},
   "outputs": [],
   "source": [
    "If you try to access spam['foo'] where spam is the dictionary { 'bar': 100 },\n",
    "a KeyError exception will be raised, \n",
    "because the key 'foo' does not exist in the dictionary spam."
   ]
  },
  {
   "cell_type": "markdown",
   "id": "c1e0f78b",
   "metadata": {},
   "source": [
    "## 5. If a dictionary is stored in spam, what is the difference between the expressions &#39;cat&#39; in spam and&#39;cat&#39; in spam.keys()?"
   ]
  },
  {
   "cell_type": "markdown",
   "id": "7a01b9b4",
   "metadata": {},
   "source": [
    "Both expressions 'cat' in spam and 'cat' in spam.keys() check if the string 'cat' is a key in the dictionary spam.\n",
    "However, there is a subtle difference between these expressions."
   ]
  },
  {
   "cell_type": "markdown",
   "id": "7b46fb7f",
   "metadata": {},
   "source": [
    "## 6. If a dictionary is stored in spam, what is the difference between the expressions &#39;cat&#39; in spam and &#39;cat&#39; in spam.values()?"
   ]
  },
  {
   "cell_type": "markdown",
   "id": "75b9b912",
   "metadata": {},
   "source": [
    "Both expressions 'cat' in spam and 'cat' in spam.values() check if the string 'cat' is a value in the dictionary spam. However,\n",
    "there is a subtle difference between these expressions.\n",
    "\n",
    "The expression 'cat' in spam checks if the value 'cat' is present in the dictionary spam. \n",
    "This expression returns a boolean value (True or False) depending on whether the value exists or not."
   ]
  },
  {
   "cell_type": "markdown",
   "id": "f2784786",
   "metadata": {},
   "source": [
    "## 7. What is a shortcut for the following code?if &#39;color&#39; not in spam:spam[&#39;color&#39;] = &#39;black&#39;"
   ]
  },
  {
   "cell_type": "code",
   "execution_count": null,
   "id": "a7a1555e",
   "metadata": {},
   "outputs": [],
   "source": [
    "Using setdefault(), the above code can be written as:\n",
    "    \n",
    "spam.setdefault('color', 'black')"
   ]
  },
  {
   "cell_type": "markdown",
   "id": "41ec98b3",
   "metadata": {},
   "source": [
    "## 8. How do you &quot;pretty print&quot; dictionary values using which module and function?"
   ]
  },
  {
   "cell_type": "code",
   "execution_count": 3,
   "id": "580fd92c",
   "metadata": {},
   "outputs": [
    {
     "name": "stdout",
     "output_type": "stream",
     "text": [
      "{'apple': 5, 'banana': 3, 'orange': 7}\n"
     ]
    }
   ],
   "source": [
    "import pprint\n",
    "\n",
    "my_dict = {'apple': 5, 'banana': 3, 'orange': 7}\n",
    "pprint.pprint(my_dict)"
   ]
  },
  {
   "cell_type": "code",
   "execution_count": null,
   "id": "580ce8ee",
   "metadata": {},
   "outputs": [],
   "source": []
  }
 ],
 "metadata": {
  "kernelspec": {
   "display_name": "Python 3 (ipykernel)",
   "language": "python",
   "name": "python3"
  },
  "language_info": {
   "codemirror_mode": {
    "name": "ipython",
    "version": 3
   },
   "file_extension": ".py",
   "mimetype": "text/x-python",
   "name": "python",
   "nbconvert_exporter": "python",
   "pygments_lexer": "ipython3",
   "version": "3.9.13"
  }
 },
 "nbformat": 4,
 "nbformat_minor": 5
}
