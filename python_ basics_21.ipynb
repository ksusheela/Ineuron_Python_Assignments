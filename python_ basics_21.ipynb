{
 "cells": [
  {
   "cell_type": "markdown",
   "id": "77188c06",
   "metadata": {},
   "source": [
    "## 1. Add the current date to the text file today.txt as a string."
   ]
  },
  {
   "cell_type": "code",
   "execution_count": 1,
   "id": "e2b367b3",
   "metadata": {},
   "outputs": [],
   "source": [
    "import datetime\n",
    "\n",
    "now = datetime.datetime.now()\n",
    "\n",
    "with open(\"today.txt\", \"w\") as file:\n",
    "    file.write(now.strftime(\"%Y-%m-%d\"))\n"
   ]
  },
  {
   "cell_type": "code",
   "execution_count": 6,
   "id": "ca5d0880",
   "metadata": {},
   "outputs": [
    {
     "name": "stdout",
     "output_type": "stream",
     "text": [
      "2023-03-24\n"
     ]
    }
   ],
   "source": [
    "with open(\"today.txt\", \"r\") as file:\n",
    "    #contents = file.read()\n",
    "    print(file.read())"
   ]
  },
  {
   "cell_type": "markdown",
   "id": "970a027d",
   "metadata": {},
   "source": [
    "## Read the text file today.txt into the string today_string"
   ]
  },
  {
   "cell_type": "code",
   "execution_count": 7,
   "id": "5edda756",
   "metadata": {},
   "outputs": [],
   "source": [
    "with open(\"today.txt\", \"r\") as file:\n",
    "    today_string = file.read()\n"
   ]
  },
  {
   "cell_type": "code",
   "execution_count": 8,
   "id": "0b191c2f",
   "metadata": {},
   "outputs": [
    {
     "data": {
      "text/plain": [
       "'2023-03-24'"
      ]
     },
     "execution_count": 8,
     "metadata": {},
     "output_type": "execute_result"
    }
   ],
   "source": [
    "today_string"
   ]
  },
  {
   "cell_type": "markdown",
   "id": "e162d931",
   "metadata": {},
   "source": [
    "## 3. Parse the date from today_string."
   ]
  },
  {
   "cell_type": "code",
   "execution_count": 9,
   "id": "ce41bce3",
   "metadata": {},
   "outputs": [
    {
     "name": "stdout",
     "output_type": "stream",
     "text": [
      "2023-03-24\n"
     ]
    }
   ],
   "source": [
    "import datetime\n",
    "\n",
    "today_string = \"2023-03-24\" # Replace this with the actual string variable\n",
    "\n",
    "parsed_date = datetime.datetime.strptime(today_string, \"%Y-%m-%d\").date()\n",
    "\n",
    "print(parsed_date)\n"
   ]
  },
  {
   "cell_type": "code",
   "execution_count": 10,
   "id": "883bd1e1",
   "metadata": {},
   "outputs": [
    {
     "data": {
      "text/plain": [
       "str"
      ]
     },
     "execution_count": 10,
     "metadata": {},
     "output_type": "execute_result"
    }
   ],
   "source": [
    "type(today_string)"
   ]
  },
  {
   "cell_type": "code",
   "execution_count": 11,
   "id": "4ba98328",
   "metadata": {},
   "outputs": [
    {
     "data": {
      "text/plain": [
       "datetime.date"
      ]
     },
     "execution_count": 11,
     "metadata": {},
     "output_type": "execute_result"
    }
   ],
   "source": [
    "type(parsed_date)"
   ]
  },
  {
   "cell_type": "markdown",
   "id": "bfa3851e",
   "metadata": {},
   "source": [
    "## 4.List the files in your current directory"
   ]
  },
  {
   "cell_type": "code",
   "execution_count": 12,
   "id": "0a3e80ed",
   "metadata": {},
   "outputs": [
    {
     "data": {
      "text/plain": [
       "'C:\\\\Users\\\\ADMIN'"
      ]
     },
     "execution_count": 12,
     "metadata": {},
     "output_type": "execute_result"
    }
   ],
   "source": [
    "import os\n",
    "os.getcwd()"
   ]
  },
  {
   "cell_type": "code",
   "execution_count": 15,
   "id": "60e9b02d",
   "metadata": {},
   "outputs": [
    {
     "name": "stdout",
     "output_type": "stream",
     "text": [
      ".bash_history\n",
      ".conda\n",
      ".condarc\n",
      ".continuum\n",
      ".dotnet\n",
      ".fcc\n",
      ".gitconfig\n",
      ".idlerc\n",
      ".ipynb_checkpoints\n",
      ".ipython\n",
      ".jupyter\n",
      ".matplotlib\n",
      ".node_repl_history\n",
      ".software\n",
      ".virtualenvs\n",
      ".vscode\n",
      ".zowe\n",
      "3D Objects\n",
      "anaconda3\n",
      "AppData\n",
      "Application Data\n",
      "Assign_python3.ipynb\n",
      "books.csv\n",
      "books.db\n",
      "Contacts\n",
      "Cookies\n",
      "Documents\n",
      "Downloads\n",
      "downloads.ipynb\n",
      "Favorites\n",
      "hello-world\n",
      "img_to_text.ipynb\n",
      "Ineuron_python_assign2.ipynb\n",
      "INEURON_PYTHON_ASSSIGN1.ipynb\n",
      "IntelGraphicsProfiles\n",
      "Links\n",
      "Local Settings\n",
      "ml_hm_week1.ipynb\n",
      "Music\n",
      "My Documents\n",
      "NetHood\n",
      "NTUSER.DAT\n",
      "ntuser.dat.LOG1\n",
      "ntuser.dat.LOG2\n",
      "NTUSER.DAT{53b39e88-18c4-11ea-a811-000d3aa4692b}.TM.blf\n",
      "NTUSER.DAT{53b39e88-18c4-11ea-a811-000d3aa4692b}.TMContainer00000000000000000001.regtrans-ms\n",
      "NTUSER.DAT{53b39e88-18c4-11ea-a811-000d3aa4692b}.TMContainer00000000000000000002.regtrans-ms\n",
      "ntuser.ini\n",
      "OneDrive\n",
      "PrintHood\n",
      "projectclass_chill.ipynb\n",
      "python_ basics_12.ipynb\n",
      "python_ basics_13.ipynb\n",
      "python_ basics_14.ipynb\n",
      "python_ basics_15.ipynb\n",
      "python_ basics_16.ipynb\n",
      "python_ basics_17.ipynb\n",
      "python_ basics_18.ipynb\n",
      "python_ basics_19.ipynb\n",
      "python_ basics_20.ipynb\n",
      "python_ basics_21.ipynb\n",
      "python_assign_4.ipynb\n",
      "python_basics_10.ipynb\n",
      "python_basics_11.ipynb\n",
      "python_basics_6.ipynb\n",
      "python_basics_8.ipynb\n",
      "python_basics_9.ipynb\n",
      "Recent\n",
      "Saved Games\n",
      "Searches\n",
      "SendTo\n",
      "Start Menu\n",
      "Student-Attendance\n",
      "Templates\n",
      "test.txt\n",
      "today.txt\n",
      "Tracing\n",
      "Untitled.ipynb\n",
      "Untitled1.ipynb\n",
      "Untitled2.ipynb\n",
      "Untitled3.ipynb\n",
      "Untitled7.ipynb\n",
      "Untitled8.ipynb\n",
      "Videos\n",
      "wheather_prediction.ipynb\n",
      "zoo.py.ipynb\n"
     ]
    }
   ],
   "source": [
    "import os\n",
    "\n",
    "files = os.listdir()  # List all files in the current directory\n",
    "\n",
    "for file in files:\n",
    "    print(file)\n",
    "#print(files)"
   ]
  },
  {
   "cell_type": "markdown",
   "id": "94f7aa4f",
   "metadata": {},
   "source": [
    "## 5 Create a list of all of the files in your parent directory (minimum five files should be available)."
   ]
  },
  {
   "cell_type": "code",
   "execution_count": 16,
   "id": "78354a30",
   "metadata": {},
   "outputs": [
    {
     "name": "stdout",
     "output_type": "stream",
     "text": [
      "ADMIN\n",
      "All Users\n",
      "Default\n",
      "Default User\n",
      "desktop.ini\n",
      "Public\n"
     ]
    }
   ],
   "source": [
    "import os\n",
    "\n",
    "path = \"..\"  # Path to the parent directory\n",
    "files = os.listdir(path)\n",
    "\n",
    "for file in files:\n",
    "    print(file)\n"
   ]
  },
  {
   "cell_type": "markdown",
   "id": "783b49a4",
   "metadata": {},
   "source": [
    "## 6. Use multiprocessing to create three separate processes. Make each one wait a random number of seconds between one and five, print the current time, and then exit."
   ]
  },
  {
   "cell_type": "code",
   "execution_count": 17,
   "id": "6ed82e49",
   "metadata": {},
   "outputs": [],
   "source": [
    "import multiprocessing\n",
    "import random\n",
    "import time\n",
    "import datetime\n",
    "\n",
    "def process_func():\n",
    "    wait_time = random.randint(1, 5)\n",
    "    time.sleep(wait_time)\n",
    "    print(f\"{datetime.datetime.now()}: Process {multiprocessing.current_process().name} finished after {wait_time} seconds.\")\n",
    "\n",
    "if __name__ == '__main__':\n",
    "    processes = []\n",
    "    for i in range(3):\n",
    "        process = multiprocessing.Process(target=process_func, name=f\"Process-{i}\")\n",
    "        processes.append(process)\n",
    "        process.start()\n",
    "\n",
    "    for process in processes:\n",
    "        process.join()\n"
   ]
  },
  {
   "cell_type": "markdown",
   "id": "b225d894",
   "metadata": {},
   "source": [
    "## 7. Create a date object of your day of birth."
   ]
  },
  {
   "cell_type": "code",
   "execution_count": 20,
   "id": "b8aac791",
   "metadata": {},
   "outputs": [
    {
     "name": "stdout",
     "output_type": "stream",
     "text": [
      "2001-06-12\n"
     ]
    }
   ],
   "source": [
    "import datetime\n",
    "\n",
    "birth_date = datetime.date(2001, 6, 12)\n",
    "print(birth_date)\n"
   ]
  },
  {
   "cell_type": "markdown",
   "id": "dc0a3c54",
   "metadata": {},
   "source": [
    "## 8. What day of the week was your day of birth?"
   ]
  },
  {
   "cell_type": "code",
   "execution_count": 22,
   "id": "fb0c8227",
   "metadata": {},
   "outputs": [
    {
     "name": "stdout",
     "output_type": "stream",
     "text": [
      "1\n"
     ]
    }
   ],
   "source": [
    "import datetime\n",
    "\n",
    "birth_date = datetime.date(2001, 6, 12)\n",
    "day_of_week = birth_date.weekday()\n",
    "\n",
    "print(day_of_week)\n"
   ]
  },
  {
   "cell_type": "markdown",
   "id": "527ef771",
   "metadata": {},
   "source": [
    "## 9. When will you be (or when were you) 10,000 days old?"
   ]
  },
  {
   "cell_type": "code",
   "execution_count": 23,
   "id": "be5419f6",
   "metadata": {},
   "outputs": [
    {
     "name": "stdout",
     "output_type": "stream",
     "text": [
      "2050-08-09\n"
     ]
    }
   ],
   "source": [
    "import datetime\n",
    "\n",
    "today = datetime.date.today()\n",
    "future_date = today + datetime.timedelta(days=10000)\n",
    "\n",
    "print(future_date)\n"
   ]
  },
  {
   "cell_type": "code",
   "execution_count": null,
   "id": "f61aa807",
   "metadata": {},
   "outputs": [],
   "source": []
  }
 ],
 "metadata": {
  "kernelspec": {
   "display_name": "Python 3 (ipykernel)",
   "language": "python",
   "name": "python3"
  },
  "language_info": {
   "codemirror_mode": {
    "name": "ipython",
    "version": 3
   },
   "file_extension": ".py",
   "mimetype": "text/x-python",
   "name": "python",
   "nbconvert_exporter": "python",
   "pygments_lexer": "ipython3",
   "version": "3.9.12"
  }
 },
 "nbformat": 4,
 "nbformat_minor": 5
}
