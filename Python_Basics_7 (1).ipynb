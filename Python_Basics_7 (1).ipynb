{
 "cells": [
  {
   "cell_type": "markdown",
   "id": "0b3f9adc",
   "metadata": {},
   "source": [
    "## 1. What is the name of the feature responsible for generating Regex objects?"
   ]
  },
  {
   "cell_type": "markdown",
   "id": "1477d61a",
   "metadata": {},
   "source": [
    "In Python, the \"re\" module is responsible for generating Regex objects, which are used for pattern matching in strings."
   ]
  },
  {
   "cell_type": "markdown",
   "id": "173c0d05",
   "metadata": {},
   "source": [
    "## 2. Why do raw strings often appear in Regex objects?"
   ]
  },
  {
   "cell_type": "markdown",
   "id": "ea0b7172",
   "metadata": {},
   "source": [
    "A regular expression that matches a backslash character followed by a letter 'n' can be written as r'\\\\n' instead of '\\\\\\\\n'. \n",
    "This makes the regular expression easier to read and understand."
   ]
  },
  {
   "cell_type": "markdown",
   "id": "ce4c3ef1",
   "metadata": {},
   "source": [
    "## 3. What is the return value of the search() method?"
   ]
  },
  {
   "cell_type": "code",
   "execution_count": 2,
   "id": "27013e4c",
   "metadata": {},
   "outputs": [
    {
     "name": "stdout",
     "output_type": "stream",
     "text": [
      "Match found: cat\n"
     ]
    }
   ],
   "source": [
    "import re\n",
    "\n",
    "pattern = r'cat'\n",
    "text = 'The cat sat on the mat.'\n",
    "\n",
    "match = re.search(pattern, text)\n",
    "\n",
    "if match:\n",
    "    print('Match found:', match.group())\n",
    "else:\n",
    "    print('No match found')"
   ]
  },
  {
   "cell_type": "markdown",
   "id": "0d528466",
   "metadata": {},
   "source": [
    "## 4. From a Match item, how do you get the actual strings that match the pattern?"
   ]
  },
  {
   "cell_type": "markdown",
   "id": "377340d3",
   "metadata": {},
   "source": [
    "The group() method returns the substring of the searched string that matches the regular expression. If the regular expression contains one or more groups (defined using parentheses), then you can pass a group number or name to the group() method to \n",
    "retrieve the substring that matched that particular group."
   ]
  },
  {
   "cell_type": "code",
   "execution_count": 4,
   "id": "5e288d96",
   "metadata": {},
   "outputs": [
    {
     "name": "stdout",
     "output_type": "stream",
     "text": [
      "Match found\n",
      "Matched substring: cat sat on the mat.\n",
      "First word: cat\n",
      "Second word: sat\n",
      "Third word: on\n",
      "Fourth word: the\n",
      "Fifth word: mat\n"
     ]
    }
   ],
   "source": [
    "import re\n",
    "\n",
    "text = 'The cat sat on the mat.'\n",
    "pattern = r'(\\w+)\\s(\\w+)\\s(\\w+)\\s(\\w+)\\s(\\w+)\\.'\n",
    "\n",
    "match = re.search(pattern, text)\n",
    "\n",
    "if match:\n",
    "    print('Match found')\n",
    "    print('Matched substring:', match.group())\n",
    "    print('First word:', match.group(1))\n",
    "    print('Second word:', match.group(2))\n",
    "    print('Third word:', match.group(3))\n",
    "    print('Fourth word:', match.group(4))\n",
    "    print('Fifth word:', match.group(5))\n",
    "else:\n",
    "    print('No match found')"
   ]
  },
  {
   "cell_type": "markdown",
   "id": "0f4b13ab",
   "metadata": {},
   "source": [
    "## 5. In the regex which created from the r&#39;(\\d\\d\\d)-(\\d\\d\\d-\\d\\d\\d\\d)&#39;, what does group zero cover? Group 2? Group 1?"
   ]
  },
  {
   "cell_type": "markdown",
   "id": "5faaf028",
   "metadata": {},
   "source": [
    "So, when we apply this regular expression using the search() method on a string,\n",
    "the group(0) method will return the entire matched substring,\n",
    "while group(1) will return the area code (first three digits), \n",
    "and group(2) will return the local phone number (remaining seven digits, separated by a hyphen)."
   ]
  },
  {
   "cell_type": "markdown",
   "id": "a322cf54",
   "metadata": {},
   "source": [
    "## 6. In standard expression syntax, parentheses and intervals have distinct meanings. How can you tella regex that you want it to fit real parentheses and periods?"
   ]
  },
  {
   "cell_type": "code",
   "execution_count": 7,
   "id": "22a3c086",
   "metadata": {},
   "outputs": [
    {
     "name": "stdout",
     "output_type": "stream",
     "text": [
      "Match found: The (cat) sat on the mat.\n",
      "Matches found: ['mat.', 'barked.']\n"
     ]
    }
   ],
   "source": [
    "import re\n",
    "\n",
    "text = 'The (cat) sat on the mat. The dog barked.'\n",
    "\n",
    "# match literal parentheses and period\n",
    "pattern = r'The \\(cat\\) sat on the mat\\.'\n",
    "match = re.search(pattern, text)\n",
    "if match:\n",
    "    print('Match found:', match.group())\n",
    "else:\n",
    "    print('No match found')\n",
    "\n",
    "# match any word followed by a period\n",
    "pattern = r'\\w+\\.'\n",
    "matches = re.findall(pattern, text)\n",
    "if matches:\n",
    "    print('Matches found:', matches)\n",
    "else:\n",
    "    print('No matches found')"
   ]
  },
  {
   "cell_type": "markdown",
   "id": "a86c4861",
   "metadata": {},
   "source": [
    "## 7. The findall() method returns a string list or a list of string tuples. What causes it to return one ofthe two options?"
   ]
  },
  {
   "cell_type": "markdown",
   "id": "59e52548",
   "metadata": {},
   "source": [
    "The findall() method in Python's re module returns a list of all non-overlapping matches of a regular expression pattern in a given string. The format of the returned list depends on whether the regular expression pattern contains capturing groups or not.\n",
    "\n",
    "If the regular expression pattern contains no capturing groups (i.e., no parentheses), then findall() returns a list of strings that match the pattern. Each string in the list corresponds to one match"
   ]
  },
  {
   "cell_type": "code",
   "execution_count": 8,
   "id": "89ca1886",
   "metadata": {},
   "outputs": [
    {
     "name": "stdout",
     "output_type": "stream",
     "text": [
      "['The', 'quick', 'brown', 'fox', 'jumps', 'over', 'the', 'lazy', 'dog']\n"
     ]
    }
   ],
   "source": [
    "import re\n",
    "\n",
    "text = 'The quick brown fox jumps over the lazy dog'\n",
    "pattern = r'\\w+'\n",
    "matches = re.findall(pattern, text)\n",
    "print(matches)"
   ]
  },
  {
   "cell_type": "markdown",
   "id": "4388ef52",
   "metadata": {},
   "source": [
    "## 8.In standard expressions, what does the | character mean?"
   ]
  },
  {
   "cell_type": "markdown",
   "id": "9d5587fa",
   "metadata": {},
   "source": [
    "In standard expressions, the | character is known as the pipe or alternation operator. It is used to specify a choice between two or more expressions.\n",
    "\n",
    "For example, the regular expression cat|dog would match either the string \"cat\" or the string \"dog\". The vertical bar character separates the two choices."
   ]
  },
  {
   "cell_type": "markdown",
   "id": "d1e4200a",
   "metadata": {},
   "source": [
    "## 9. In regular expressions, what does the character stand for?"
   ]
  },
  {
   "cell_type": "markdown",
   "id": "d8064d28",
   "metadata": {},
   "source": [
    "Here are a few more examples:\n",
    "\n",
    "The regular expression c.t would match \"cat\", \"cot\", \"cut\", and any other three-character string that starts with \"c\" and ends with \"t\".\n",
    "The regular expression a.b would match \"aab\", \"abb\", \"acb\", \"adb\", and any other three-character string that starts with \"a\" and ends with \"b\", with any character in the middle.\n",
    "The regular expression 1.3 would match \"103\", \"123\", \"153\", and any other three-character string that starts with \"1\" and ends with \"3\", with any character in the middle."
   ]
  },
  {
   "cell_type": "markdown",
   "id": "4b0cd68c",
   "metadata": {},
   "source": [
    "## 10.In regular expressions, what is the difference between the + and * characters?"
   ]
  },
  {
   "cell_type": "markdown",
   "id": "896a2778",
   "metadata": {},
   "source": [
    "In regular expressions, the + and * characters are known as quantifiers, and they are used to specify how many times a pattern should match. The main difference between the two is:\n",
    "\n",
    "The * character matches zero or more occurrences of the pattern.\n",
    "The + character matches one or more occurrences of the pattern."
   ]
  },
  {
   "cell_type": "markdown",
   "id": "e9e049c5",
   "metadata": {},
   "source": [
    "## 11.What is the difference between {4} and {4,5} in regular expression?|"
   ]
  },
  {
   "cell_type": "markdown",
   "id": "03c9e149",
   "metadata": {},
   "source": [
    "The regular expression a{4} would match the string \"aaaa\" but would not match \"aaa\" or \"aaaaa\", because it requires exactly four occurrences of the letter \"a\". On the other hand, the regular expression a{4,5} would match both \"aaaa\" and \"aaaaa\", because it allows for between four and five occurrences of the letter \"a\"."
   ]
  },
  {
   "cell_type": "markdown",
   "id": "e3690249",
   "metadata": {},
   "source": [
    "## 12. What do you mean by the \\d, \\w, and \\s shorthand character classes signify in regular expressions?"
   ]
  },
  {
   "cell_type": "markdown",
   "id": "16551a01",
   "metadata": {},
   "source": [
    "d: Matches any digit character. This is equivalent to the character class [0-9]. For example, the regular expression \\d{3} would match any three-digit number.\n",
    "\n",
    "\\w: Matches any word character, which includes letters, digits, and underscores. This is equivalent to the character class [a-zA-Z0-9_]. For example, the regular expression \\w+ would match one or more word characters.\n",
    "\n",
    "\\s: Matches any whitespace character, which includes spaces, tabs, and newlines. For example, the regular expression \\s+ would match one or more whitespace characters."
   ]
  },
  {
   "cell_type": "markdown",
   "id": "1fb67efa",
   "metadata": {},
   "source": [
    "## 13. What do means by \\D, \\W, and \\S shorthand character classes signify in regular expressions?"
   ]
  },
  {
   "cell_type": "markdown",
   "id": "ae868f45",
   "metadata": {},
   "source": [
    "\\D: Matches any non-digit character. This is equivalent to the character class [^0-9]. For example, the regular expression \\D+ would match one or more non-digit characters.\n",
    "\n",
    "\\W: Matches any non-word character, which includes any character that is not a letter, digit, or underscore. This is equivalent to the character class [^a-zA-Z0-9_]. For example, the regular expression \\W+ would match one or more non-word characters.\n",
    "\n",
    "\\S: Matches any non-whitespace character. This is equivalent to the character class [^\\s]. For example, the regular expression \\S+ would match one or more non-whitespace characters."
   ]
  },
  {
   "cell_type": "markdown",
   "id": "f2704d89",
   "metadata": {},
   "source": [
    "## 14.What is the difference between .*? and .*?"
   ]
  },
  {
   "cell_type": "markdown",
   "id": "d4b8f1ae",
   "metadata": {},
   "source": [
    "For example, the regular expression a.*?b would match the shortest possible string that starts with the letter \"a\" and ends with the letter \"b\". In the string \"abcab\", this would match the substring \"abcab\", because it is the shortest possible substring that contains both \"a\" and \"b\".\n",
    "\n",
    "For example, the regular expression a.*b would match the longest possible string that starts with the letter \"a\" and ends with the letter \"b\". In the string \"abcab\", this would match the entire string \"abcab\", because it is the longest possible substring that contains both \"a\" and \"b\"."
   ]
  },
  {
   "cell_type": "markdown",
   "id": "50491f58",
   "metadata": {},
   "source": [
    "## 15. What is the syntax for matching both numbers and lowercase letters with a character class?"
   ]
  },
  {
   "cell_type": "markdown",
   "id": "e5c5a8e9",
   "metadata": {},
   "source": [
    "To match both numbers and lowercase letters using a character class in a regular expression, you can use the shorthand character classes \\d and \\w as follows:\n",
    "\n",
    "The regular expression [\\d\\w]+ would match one or more characters that are either digits or lowercase letters. For example, it would match the string \"abc123\" but not the string \"ABC123\"."
   ]
  },
  {
   "cell_type": "markdown",
   "id": "04df1f83",
   "metadata": {},
   "source": [
    "## 16. What is the procedure for making a normal expression in regax case insensitive?"
   ]
  },
  {
   "cell_type": "markdown",
   "id": "c1ce4334",
   "metadata": {},
   "source": [
    "To make a regular expression case-insensitive in regex, you can use the i flag at the end of the pattern. This flag tells the regex engine to ignore the case of the letters when matching the pattern.\n",
    "\n",
    "/regex pattern/i\n",
    "/apple/i\n",
    "/(?i)regex pattern/\n"
   ]
  },
  {
   "cell_type": "markdown",
   "id": "ae00fead",
   "metadata": {},
   "source": [
    "## 17.What does the . character normally match? What does it match if re.DOTALL is passed as 2nd argument in re.compile()?"
   ]
  },
  {
   "cell_type": "markdown",
   "id": "72cb27fd",
   "metadata": {},
   "source": [
    "If the re.DOTALL flag is passed as the second argument to the re.compile() function, then the dot character will also match newline characters (\\n). This flag changes the behavior of the dot character to be more inclusive, allowing it to match any character in the input string, including newline characters."
   ]
  },
  {
   "cell_type": "markdown",
   "id": "f4b3e0c1",
   "metadata": {},
   "source": [
    "## 18.If numReg = re.compile(r&#39;\\d+&#39;), what will numRegex.sub(&#39;X&#39;, &#39;11 drummers, 10 pipers, five rings, 4hen&#39;) return?"
   ]
  },
  {
   "cell_type": "markdown",
   "id": "8d0f6ff5",
   "metadata": {},
   "source": [
    "If numReg = re.compile(r'\\d+'), calling numRegex.sub('X', '11 drummers, 10 pipers, five rings, 4 hen') will replace all occurrences of one or more digits with the string 'X', resulting in the following output:\n",
    "\n",
    "he regular expression r'\\d+' matches one or more digits in the input string. The sub() method of the numReg object is then called with two arguments: the replacement string 'X' and the input string '11 drummers, 10 pipers, five rings, 4 hen'. "
   ]
  },
  {
   "cell_type": "markdown",
   "id": "f6bbc0ff",
   "metadata": {},
   "source": [
    "## 19. What does passing re.VERBOSE as the 2nd argument to re.compile() allow to do?"
   ]
  },
  {
   "cell_type": "markdown",
   "id": "aff17ba3",
   "metadata": {},
   "source": [
    "When the re.VERBOSE flag is passed as the second argument to re.compile(), it allows you to write regular expressions that are more readable and easier to understand by adding whitespace and comments to the pattern."
   ]
  },
  {
   "cell_type": "code",
   "execution_count": 2,
   "id": "b9523f1e",
   "metadata": {},
   "outputs": [
    {
     "name": "stdout",
     "output_type": "stream",
     "text": [
      "re.compile('\\n    \\\\d{3}  # match three digits\\n    -      # match a hyphen\\n    \\\\d{2}  # match two digits\\n    -      # match a hyphen\\n    \\\\d{4}  # match four digits\\n', re.VERBOSE)\n"
     ]
    }
   ],
   "source": [
    "import re\n",
    "\n",
    "pattern = re.compile(r'''\n",
    "    \\d{3}  # match three digits\n",
    "    -      # match a hyphen\n",
    "    \\d{2}  # match two digits\n",
    "    -      # match a hyphen\n",
    "    \\d{4}  # match four digits\n",
    "''', re.VERBOSE)\n",
    "print(pattern)"
   ]
  },
  {
   "cell_type": "markdown",
   "id": "bb423e57",
   "metadata": {},
   "source": [
    "## 20.How would you write a regex that match a number with comma for every three digits? It must match the given following:&#39;42&#39;&#39;1,234&#39;&#39;6,368,745&#39;but not the following:&#39;12,34,567&#39;  (which has only two digits between the commas)&#39;1234&#39; (which lacks commas)"
   ]
  },
  {
   "cell_type": "markdown",
   "id": "00a9c85c",
   "metadata": {},
   "source": [
    "Let's break this expression down:\n",
    "\n",
    "^ - matches the start of the string.\n",
    "\\d{1,3} - matches one to three digits at the beginning of the string.\n",
    "(,\\d{3})* - matches zero or more occurrences of a comma followed by three digits.\n",
    "$ - matches the end of the string."
   ]
  },
  {
   "cell_type": "code",
   "execution_count": 4,
   "id": "336f9f66",
   "metadata": {},
   "outputs": [
    {
     "name": "stdout",
     "output_type": "stream",
     "text": [
      "<re.Match object; span=(0, 2), match='42'>\n",
      "<re.Match object; span=(0, 5), match='1,234'>\n",
      "<re.Match object; span=(0, 9), match='6,368,745'>\n",
      "None\n",
      "None\n"
     ]
    }
   ],
   "source": [
    "import re\n",
    "\n",
    "regex = re.compile(r'^\\d{1,3}(,\\d{3})*$')\n",
    "\n",
    "print(regex.match('42'))             # Match\n",
    "print(regex.match('1,234'))          # Match\n",
    "print(regex.match('6,368,745'))      # Match\n",
    "print(regex.match('12,34,567'))      # No match\n",
    "print(regex.match('1234'))           # No match\n"
   ]
  },
  {
   "cell_type": "markdown",
   "id": "5ef50c1c",
   "metadata": {},
   "source": [
    "## 21. How would you write a regex that matches the full name of someone whose last name is Watanabe? You can assume that the first name that comes before it will always be one word thatbegins with a capital letter. The regex must match the following:&#39;Haruto Watanabe&#39;&#39;Alice Watanabe&#39;&#39;RoboCop Watanabe&#39;but not the following:&#39;haruto Watanabe&#39; (where the first name is not capitalized)&#39;Mr. Watanabe&#39; (where the preceding word has a nonletter character)&#39;Watanabe&#39; (which has no first name) &#39;Haruto watanabe&#39; (where Watanabe is not capitalized)"
   ]
  },
  {
   "cell_type": "markdown",
   "id": "97e76e01",
   "metadata": {},
   "source": [
    "^ - matches the start of the string.\n",
    "\n",
    "[A-Z] - matches an uppercase letter at the beginning of the string.\n",
    "\n",
    "[a-z]* - matches zero or more lowercase letters after the first uppercase letter (representing the first name).\n",
    "\n",
    "\\s - matches a whitespace character between the first and last names.\n",
    "Watanabe - matches the last name.\n",
    "\n",
    "$ - matches the end of the string."
   ]
  },
  {
   "cell_type": "code",
   "execution_count": 5,
   "id": "7c3260ab",
   "metadata": {},
   "outputs": [
    {
     "name": "stdout",
     "output_type": "stream",
     "text": [
      "<re.Match object; span=(0, 15), match='Haruto Watanabe'>\n",
      "<re.Match object; span=(0, 14), match='Alice Watanabe'>\n",
      "None\n",
      "None\n",
      "None\n",
      "None\n",
      "None\n"
     ]
    }
   ],
   "source": [
    "import re\n",
    "\n",
    "regex = re.compile(r'^[A-Z][a-z]*\\sWatanabe$')\n",
    "\n",
    "print(regex.match('Haruto Watanabe'))     # Match\n",
    "print(regex.match('Alice Watanabe'))      # Match\n",
    "print(regex.match('RoboCop Watanabe'))    # Match\n",
    "print(regex.match('haruto Watanabe'))     # No match\n",
    "print(regex.match('Mr. Watanabe'))        # No match\n",
    "print(regex.match('Watanabe'))            # No match\n",
    "print(regex.match('Haruto watanabe'))     # No match\n"
   ]
  },
  {
   "cell_type": "markdown",
   "id": "29d14eca",
   "metadata": {},
   "source": [
    "## 22.How would you write a regex that matches a sentence where the first word is either Alice, Bob, or Carol; the second word is either eats, pets, or throws; the third word is apples, cats, or baseballs; and the sentence ends with a period? This regex should be case-insensitive. It must match the following: &#39;Alice eats apples.&#39;&#39;Bob pets cats.&#39;&#39;Carol throws baseballs.&#39;&#39;Alice throws Apples.&#39;&#39;BOB EATS CATS.&#39;but not the following:&#39;RoboCop eats apples.&#39;&#39;ALICE THROWS FOOTBALLS.&#39; &#39;Carol eats 7 cats.&#39;"
   ]
  },
  {
   "cell_type": "markdown",
   "id": "5dd58739",
   "metadata": {},
   "source": [
    "^(Alice|Bob|Carol)\\s+(eats|pets|throws)\\s+(apples|cats|baseballs)\\.$a"
   ]
  },
  {
   "cell_type": "code",
   "execution_count": 8,
   "id": "c17399ce",
   "metadata": {},
   "outputs": [
    {
     "name": "stdout",
     "output_type": "stream",
     "text": [
      "re.compile('^(Alice|Bob|Carol)\\\\s+(eats|pets|throws)\\\\s+(apples|cats|baseballs)\\\\.$', re.IGNORECASE)\n"
     ]
    }
   ],
   "source": [
    "import re\n",
    "regex = re.compile(r'^(Alice|Bob|Carol)\\s+(eats|pets|throws)\\s+(apples|cats|baseballs)\\.$', re.IGNORECASE)\n",
    "print(regex)"
   ]
  },
  {
   "cell_type": "code",
   "execution_count": null,
   "id": "5068eb6d",
   "metadata": {},
   "outputs": [],
   "source": []
  }
 ],
 "metadata": {
  "kernelspec": {
   "display_name": "Python 3 (ipykernel)",
   "language": "python",
   "name": "python3"
  },
  "language_info": {
   "codemirror_mode": {
    "name": "ipython",
    "version": 3
   },
   "file_extension": ".py",
   "mimetype": "text/x-python",
   "name": "python",
   "nbconvert_exporter": "python",
   "pygments_lexer": "ipython3",
   "version": "3.9.12"
  }
 },
 "nbformat": 4,
 "nbformat_minor": 5
}
