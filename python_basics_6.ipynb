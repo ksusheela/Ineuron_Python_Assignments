{
 "cells": [
  {
   "cell_type": "markdown",
   "id": "7acfc0d7",
   "metadata": {},
   "source": [
    "## 1.What are escape characters, and how do you use them?"
   ]
  },
  {
   "cell_type": "markdown",
   "id": "16fb5738",
   "metadata": {},
   "source": [
    "The escape character for a newline is \"\\n\", for a tab is \"\\t\", for a double quotation mark is \"\"\", and for a backslash itself is \"\\\\\""
   ]
  },
  {
   "cell_type": "markdown",
   "id": "a660ec35",
   "metadata": {},
   "source": [
    "## 2.What do the escape characters n and t stand for?"
   ]
  },
  {
   "cell_type": "markdown",
   "id": "cfccb9bc",
   "metadata": {},
   "source": [
    "The escape character \"n\" stands for a newline, which is used to move the cursor to the beginning of the next line. It is often used to create a line break in a string.\n",
    "\n",
    "The escape character \"t\" stands for a horizontal tab, which is used to insert a tab character into a string. This is often used to separate items in a list or table."
   ]
  },
  {
   "cell_type": "markdown",
   "id": "af7c49f4",
   "metadata": {},
   "source": [
    "## 3.What is the way to include backslash characters in a string?"
   ]
  },
  {
   "cell_type": "code",
   "execution_count": 2,
   "id": "38e1c02e",
   "metadata": {},
   "outputs": [
    {
     "name": "stdout",
     "output_type": "stream",
     "text": [
      "She said, \"Hello!\"\n"
     ]
    }
   ],
   "source": [
    "print(\"She said, \\\"Hello!\\\"\")"
   ]
  },
  {
   "cell_type": "code",
   "execution_count": 6,
   "id": "38dd6d7d",
   "metadata": {},
   "outputs": [
    {
     "name": "stdout",
     "output_type": "stream",
     "text": [
      "hello's\n"
     ]
    }
   ],
   "source": [
    "print('hello\\'s')"
   ]
  },
  {
   "cell_type": "markdown",
   "id": "55813c16",
   "metadata": {},
   "source": [
    "## 4. The string &quot;Howl&#39;s Moving Castle&quot; is a correct value. Why isn&#39;t the single quote character in theword Howl&#39;s not escaped a problem?"
   ]
  },
  {
   "cell_type": "code",
   "execution_count": 10,
   "id": "2c393398",
   "metadata": {},
   "outputs": [
    {
     "name": "stdout",
     "output_type": "stream",
     "text": [
      "Howl's Moving Castle\n"
     ]
    }
   ],
   "source": [
    "print(\"Howl's Moving Castle\")"
   ]
  },
  {
   "cell_type": "code",
   "execution_count": 8,
   "id": "5f7b1582",
   "metadata": {},
   "outputs": [
    {
     "name": "stdout",
     "output_type": "stream",
     "text": [
      "Howl's Moving Castle\n",
      "Howl's Moving Castle\n"
     ]
    }
   ],
   "source": [
    "print(\"Howl's Moving Castle\")\n",
    "print('Howl\\'s Moving Castle')\n"
   ]
  },
  {
   "cell_type": "markdown",
   "id": "7bc53105",
   "metadata": {},
   "source": [
    "he single quote character in the string \"Howl's Moving Castle\" is not a problem because the string is enclosed in double quotation marks, which is a different character than the single quote character"
   ]
  },
  {
   "cell_type": "markdown",
   "id": "8a19f080",
   "metadata": {},
   "source": [
    "## 5.How do you write a string of newlines if you don&#39;t want to use the n character?"
   ]
  },
  {
   "cell_type": "code",
   "execution_count": 16,
   "id": "af427f66",
   "metadata": {},
   "outputs": [],
   "source": [
    "my_string = '''\n",
    " pradeep\n",
    " sushe akka\n",
    " hasya\n",
    " Halya\n",
    "'''\n"
   ]
  },
  {
   "cell_type": "code",
   "execution_count": 17,
   "id": "bb3e8e28",
   "metadata": {},
   "outputs": [
    {
     "name": "stdout",
     "output_type": "stream",
     "text": [
      "\n",
      " pradeep\n",
      " sushe akka\n",
      " hasya\n",
      " Halya\n",
      "\n"
     ]
    }
   ],
   "source": [
    "print(my_string)"
   ]
  },
  {
   "cell_type": "markdown",
   "id": "fbd76db4",
   "metadata": {},
   "source": [
    "## 6.What are the values of the given expressions?&#39;Hello, world!&#39;[1]&#39;Hello, world!&#39;[0:5]&#39;Hello, world!&#39;[:5]&#39;Hello, world!&#39;[3:]"
   ]
  },
  {
   "cell_type": "code",
   "execution_count": 19,
   "id": "bc470c18",
   "metadata": {},
   "outputs": [
    {
     "name": "stdout",
     "output_type": "stream",
     "text": [
      "e\n",
      "Hello\n",
      "Hello\n",
      "lo, world!\n"
     ]
    }
   ],
   "source": [
    "a='Hello, world!'[1]\n",
    "b='Hello, world!'[0:5]\n",
    "c='Hello, world!'[:5]\n",
    "d='Hello, world!'[3:]\n",
    "print(a)\n",
    "print(b)\n",
    "print(c)\n",
    "print(d)"
   ]
  },
  {
   "cell_type": "markdown",
   "id": "6e4589a7",
   "metadata": {},
   "source": [
    "## 7.What are the values of the following expressions?&#39;Hello&#39;.upper()&#39;Hello&#39;.upper().isupper()&#39;Hello&#39;.upper().lower()"
   ]
  },
  {
   "cell_type": "code",
   "execution_count": 20,
   "id": "fa272fb0",
   "metadata": {},
   "outputs": [
    {
     "name": "stdout",
     "output_type": "stream",
     "text": [
      "HELLO\n",
      "True\n",
      "hello\n"
     ]
    }
   ],
   "source": [
    "a='Hello'.upper()\n",
    "b='Hello'.upper().isupper()\n",
    "c='Hello'.upper().lower()\n",
    "print(a)\n",
    "print(b)\n",
    "print(c)"
   ]
  },
  {
   "cell_type": "markdown",
   "id": "2f47b217",
   "metadata": {},
   "source": [
    "## 8.What are the values of the following expressions?&#39;Remember, remember, the fifth of July.&#39;.split()"
   ]
  },
  {
   "cell_type": "code",
   "execution_count": 23,
   "id": "4a2a485c",
   "metadata": {},
   "outputs": [
    {
     "name": "stdout",
     "output_type": "stream",
     "text": [
      "['Remember,', 'remember,', 'the', 'fifth', 'of', 'July.']\n"
     ]
    }
   ],
   "source": [
    "a='Remember, remember, the fifth of July.'.split()\n",
    "print(a)"
   ]
  },
  {
   "cell_type": "markdown",
   "id": "d002f9ac",
   "metadata": {},
   "source": [
    "## 9.What are the methods for right-justifying, left-justifying, and centering a string?"
   ]
  },
  {
   "cell_type": "code",
   "execution_count": 31,
   "id": "8eb7809d",
   "metadata": {},
   "outputs": [
    {
     "name": "stdout",
     "output_type": "stream",
     "text": [
      "hello@@@@@\n"
     ]
    }
   ],
   "source": [
    "stri = \"hello\"\n",
    "a= stri.ljust(10, \"@\")\n",
    "print(a)\n"
   ]
  },
  {
   "cell_type": "code",
   "execution_count": 32,
   "id": "8c45025e",
   "metadata": {},
   "outputs": [
    {
     "name": "stdout",
     "output_type": "stream",
     "text": [
      "@@@@@hello\n"
     ]
    }
   ],
   "source": [
    "stri = \"hello\"\n",
    "a= stri.rjust(10, \"@\")\n",
    "print(a)"
   ]
  },
  {
   "cell_type": "code",
   "execution_count": 33,
   "id": "177bf3f2",
   "metadata": {},
   "outputs": [
    {
     "name": "stdout",
     "output_type": "stream",
     "text": [
      "@@hello@@@\n"
     ]
    }
   ],
   "source": [
    "stri = \"hello\"\n",
    "a= stri.center(10, \"@\")\n",
    "print(a)"
   ]
  },
  {
   "cell_type": "markdown",
   "id": "780458d0",
   "metadata": {},
   "source": [
    "## 10.What is the best way to remove whitespace characters from the start or end?"
   ]
  },
  {
   "cell_type": "code",
   "execution_count": 34,
   "id": "1a7a4c7f",
   "metadata": {},
   "outputs": [
    {
     "name": "stdout",
     "output_type": "stream",
     "text": [
      "Hello, world!\n"
     ]
    }
   ],
   "source": [
    "# The strip() method to remove whitespace characters from the start and end of a string.\n",
    "\n",
    "my_string = \"  Hello, world!  \"\n",
    "new_string = my_string.strip()\n",
    "print(new_string)\n"
   ]
  },
  {
   "cell_type": "code",
   "execution_count": null,
   "id": "97490df5",
   "metadata": {},
   "outputs": [],
   "source": []
  }
 ],
 "metadata": {
  "kernelspec": {
   "display_name": "Python 3 (ipykernel)",
   "language": "python",
   "name": "python3"
  },
  "language_info": {
   "codemirror_mode": {
    "name": "ipython",
    "version": 3
   },
   "file_extension": ".py",
   "mimetype": "text/x-python",
   "name": "python",
   "nbconvert_exporter": "python",
   "pygments_lexer": "ipython3",
   "version": "3.9.12"
  }
 },
 "nbformat": 4,
 "nbformat_minor": 5
}
