{
 "cells": [
  {
   "cell_type": "markdown",
   "id": "a7c5ed8e",
   "metadata": {},
   "source": [
    "## 1 . What is the difference between enclosing a list comprehension in square brackets and parentheses?"
   ]
  },
  {
   "cell_type": "markdown",
   "id": "0ca04237",
   "metadata": {},
   "source": [
    "The difference between enclosing a list comprehension in square brackets ([]) and parentheses (()) is that square brackets create a list, while parentheses create a generator object."
   ]
  },
  {
   "cell_type": "code",
   "execution_count": 3,
   "id": "9fe2bafe",
   "metadata": {},
   "outputs": [
    {
     "data": {
      "text/plain": [
       "[0, 1, 4, 9, 16, 25, 36, 49, 64, 81]"
      ]
     },
     "execution_count": 3,
     "metadata": {},
     "output_type": "execute_result"
    }
   ],
   "source": [
    "# Using square brackets to create a list comprehension\n",
    "squares = [x**2 for x in range(10)]\n",
    "squares"
   ]
  },
  {
   "cell_type": "code",
   "execution_count": 4,
   "id": "e16fdad6",
   "metadata": {},
   "outputs": [
    {
     "data": {
      "text/plain": [
       "<generator object <genexpr> at 0x00000213EDBBFB30>"
      ]
     },
     "execution_count": 4,
     "metadata": {},
     "output_type": "execute_result"
    }
   ],
   "source": [
    "# Using parentheses to create a generator expression\n",
    "squares_generator = (x**2 for x in range(10))\n",
    "squares_generator"
   ]
  },
  {
   "cell_type": "markdown",
   "id": "b3ea1eb5",
   "metadata": {},
   "source": [
    "## 2.What is the relationship between generators and iterators?\n"
   ]
  },
  {
   "cell_type": "code",
   "execution_count": 6,
   "id": "144f66c5",
   "metadata": {},
   "outputs": [],
   "source": [
    "def squares():\n",
    "    for i in range(10):\n",
    "        yield i**2\n"
   ]
  },
  {
   "cell_type": "code",
   "execution_count": 7,
   "id": "407c4445",
   "metadata": {},
   "outputs": [
    {
     "name": "stdout",
     "output_type": "stream",
     "text": [
      "0\n",
      "1\n",
      "4\n",
      "9\n",
      "16\n",
      "25\n",
      "36\n",
      "49\n",
      "64\n",
      "81\n"
     ]
    }
   ],
   "source": [
    "squares_generator = squares()\n",
    "for value in squares_generator:\n",
    "    print(value)\n"
   ]
  },
  {
   "cell_type": "markdown",
   "id": "76b3b10c",
   "metadata": {},
   "source": [
    "## 3.What are the signs that a function is a generator function?"
   ]
  },
  {
   "cell_type": "markdown",
   "id": "f51db1c3",
   "metadata": {},
   "source": [
    "There are two main signs that a function is a generator function in Python:\n",
    "\n",
    "It contains the yield keyword: A generator function is defined using the def keyword and contains one or more yield statements. The yield statement is used to specify the values that the generator should yield each time it is iterated over.\n",
    "\n",
    "It returns a generator object: When you call a generator function, it returns a generator object, which is an iterator that can be iterated over using a for loop or the next() function. The generator object is created automatically when the generator function is called, and it is used to generate the values specified by the yield statements."
   ]
  },
  {
   "cell_type": "markdown",
   "id": "0ac0d7e4",
   "metadata": {},
   "source": [
    "## 4.What is the purpose of a yield statement?"
   ]
  },
  {
   "cell_type": "markdown",
   "id": "6994f230",
   "metadata": {},
   "source": [
    "The yield statement in Python is used in generator functions to specify the values that should be yielded to the caller each time the generator is iterated over. When a generator function is called, it returns a generator object that implements the iterator protocol. The yield statement is used to pause the generator and return a value to the caller. The next time the generator is iterated over, it resumes execution from where it left off and continues until it encounters another yield statement.\n",
    "\n",
    "The yield statement allows you to define generators using a concise syntax and without the need to explicitly implement the __iter__ and __next__ methods. It also allows you to generate values one at a time instead of generating all the values at once, which can be useful for working with large datasets or for situations where you only need to generate values on-demand."
   ]
  },
  {
   "cell_type": "markdown",
   "id": "fbc090c6",
   "metadata": {},
   "source": [
    "## 5.What is the relationship between map calls and list comprehensions? Make a comparison and contrast between the two."
   ]
  },
  {
   "cell_type": "markdown",
   "id": "e1f01add",
   "metadata": {},
   "source": [
    "Both map() calls and list comprehensions are used in Python to apply a function to a sequence of elements and generate a new sequence of results. However, there are some differences in how they work.\n",
    "\n",
    "map() is a built-in function in Python that takes a function and a sequence (such as a list or tuple) as arguments, and applies the function to each element of the sequence, generating a new sequence of results. Here is an example:"
   ]
  },
  {
   "cell_type": "code",
   "execution_count": 8,
   "id": "3f1a6598",
   "metadata": {},
   "outputs": [
    {
     "name": "stdout",
     "output_type": "stream",
     "text": [
      "[1, 4, 9, 16, 25]\n"
     ]
    }
   ],
   "source": [
    "def square(x):\n",
    "    return x**2\n",
    "\n",
    "numbers = [1, 2, 3, 4, 5]\n",
    "squares = map(square, numbers)\n",
    "print(list(squares))\n"
   ]
  },
  {
   "cell_type": "code",
   "execution_count": 9,
   "id": "18a101dd",
   "metadata": {},
   "outputs": [
    {
     "name": "stdout",
     "output_type": "stream",
     "text": [
      "[1, 4, 9, 16, 25]\n"
     ]
    }
   ],
   "source": [
    "numbers = [1, 2, 3, 4, 5]\n",
    "squares = [x**2 for x in numbers]\n",
    "print(squares)\n"
   ]
  },
  {
   "cell_type": "markdown",
   "id": "ca2fa39b",
   "metadata": {},
   "source": [
    "One key difference between map() and list comprehensions is that map() always returns an iterator, which means that you need to convert it to a list or tuple using the list() or tuple() functions if you want to access the results. In contrast, list comprehensions generate a new list directly.\n",
    "\n",
    "Another difference is that map() can take any iterable as its second argument, while list comprehensions can only be applied to lists"
   ]
  },
  {
   "cell_type": "code",
   "execution_count": null,
   "id": "48986b3e",
   "metadata": {},
   "outputs": [],
   "source": []
  }
 ],
 "metadata": {
  "kernelspec": {
   "display_name": "Python 3 (ipykernel)",
   "language": "python",
   "name": "python3"
  },
  "language_info": {
   "codemirror_mode": {
    "name": "ipython",
    "version": 3
   },
   "file_extension": ".py",
   "mimetype": "text/x-python",
   "name": "python",
   "nbconvert_exporter": "python",
   "pygments_lexer": "ipython3",
   "version": "3.9.12"
  }
 },
 "nbformat": 4,
 "nbformat_minor": 5
}
