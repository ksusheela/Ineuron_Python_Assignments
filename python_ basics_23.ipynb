{
 "cells": [
  {
   "cell_type": "markdown",
   "id": "e5fe08bc",
   "metadata": {},
   "source": [
    "## 1.What is the result of the code, and why?"
   ]
  },
  {
   "cell_type": "code",
   "execution_count": 1,
   "id": "abe6b2d4",
   "metadata": {},
   "outputs": [
    {
     "name": "stdout",
     "output_type": "stream",
     "text": [
      "1 2 8\n"
     ]
    }
   ],
   "source": [
    "def func(a, b=6, c=8):\n",
    "    print(a, b, c)\n",
    "func(1, 2)"
   ]
  },
  {
   "cell_type": "markdown",
   "id": "6cd4e118",
   "metadata": {},
   "source": [
    "In this code, a function named func() is defined that takes three parameters: a, b, and c. The b and c parameters are optional and have default values of 6 and 8, respectively.\n",
    "\n",
    "When the func() function is called with arguments (1, 2), the value of 1 is assigned to the a parameter, the value of 2 is assigned to the b parameter, and the default value of 8 is assigned to the c parameter.\n",
    "\n",
    "The function then prints the values of a, b, and"
   ]
  },
  {
   "cell_type": "markdown",
   "id": "90750bd3",
   "metadata": {},
   "source": [
    "## 2.What is the result of this code, and why?"
   ]
  },
  {
   "cell_type": "code",
   "execution_count": 2,
   "id": "31fdda4b",
   "metadata": {},
   "outputs": [
    {
     "name": "stdout",
     "output_type": "stream",
     "text": [
      "1 2 3\n"
     ]
    }
   ],
   "source": [
    "def func(a, b, c=5):\n",
    "    print(a, b, c)\n",
    "func(1, c=3, b=2)"
   ]
  },
  {
   "cell_type": "raw",
   "id": "fc74db6e",
   "metadata": {},
   "source": [
    "In this code, a function named func() is defined that takes three parameters: a, b, and c. The c parameter is optional and has a default value of 5.\n",
    "\n",
    "When the func() function is called with arguments (1, c=3, b=2), the value of 1 is assigned to the a parameter, the value of 2 is assigned to the b parameter, and the value of 3 is assigned to the c parameter using keyword argument syntax.\n",
    "\n",
    "The function then prints the values of a, b, and c, which are 1, 2, and 3, respectively."
   ]
  },
  {
   "cell_type": "markdown",
   "id": "f76c61c6",
   "metadata": {},
   "source": [
    "## 3. How about this code: what is its result, and why?"
   ]
  },
  {
   "cell_type": "code",
   "execution_count": 4,
   "id": "f7a1c781",
   "metadata": {},
   "outputs": [
    {
     "name": "stdout",
     "output_type": "stream",
     "text": [
      "1 (2, 3)\n"
     ]
    }
   ],
   "source": [
    "def func(a, *pargs):\n",
    "    print(a, pargs)\n",
    "func(1, 2, 3)"
   ]
  },
  {
   "cell_type": "raw",
   "id": "7e9066b4",
   "metadata": {},
   "source": [
    "In this code, a function named func() is defined that takes a required parameter a, and a variable-length tuple of positional arguments pargs, which is denoted by the * operator in front of the parameter name pargs.\n",
    "\n",
    "When the func() function is called with arguments (1, 2, 3), the value of 1 is assigned to the a parameter, and the values 2 and 3 are packed into a tuple and assigned to the pargs parameter.\n",
    "\n",
    "The function then prints the values of a and pargs, which are 1 and (2, 3), respectively."
   ]
  },
  {
   "cell_type": "markdown",
   "id": "fddec240",
   "metadata": {},
   "source": [
    "## 4.What does this code print, and why?"
   ]
  },
  {
   "cell_type": "code",
   "execution_count": 5,
   "id": "3ce99c3f",
   "metadata": {},
   "outputs": [
    {
     "name": "stdout",
     "output_type": "stream",
     "text": [
      "1 {'c': 3, 'b': 2}\n"
     ]
    }
   ],
   "source": [
    "def func(a, **kargs):\n",
    "    print(a, kargs)\n",
    "func(a=1, c=3, b=2)"
   ]
  },
  {
   "cell_type": "raw",
   "id": "0c05fe0c",
   "metadata": {},
   "source": [
    "In this code, a function named func() is defined that takes a required parameter a, and a variable-length dictionary of keyword arguments kargs, which is denoted by the ** operator in front of the parameter name kargs.\n",
    "\n",
    "When the func() function is called with keyword arguments a=1, c=3, b=2, the value of 1 is assigned to the a parameter, and the keyword arguments c=3 and b=2 are packed into a dictionary and assigned to the kargs parameter.\n",
    "\n",
    "The function then prints the values of a and kargs, which are 1 and {'c': 3, 'b': 2}, respectively."
   ]
  },
  {
   "cell_type": "markdown",
   "id": "8ef53ffd",
   "metadata": {},
   "source": [
    "## 5.What gets printed by this, and explain?"
   ]
  },
  {
   "cell_type": "code",
   "execution_count": 6,
   "id": "684cde85",
   "metadata": {},
   "outputs": [
    {
     "name": "stdout",
     "output_type": "stream",
     "text": [
      "1 5 6 5\n"
     ]
    }
   ],
   "source": [
    "def func(a, b, c=8, d=5):\n",
    "    print(a, b, c, d)\n",
    "func(1, *(5, 6))"
   ]
  },
  {
   "cell_type": "markdown",
   "id": "087da63d",
   "metadata": {},
   "source": [
    "## 6.what is the result of this, and explain?"
   ]
  },
  {
   "cell_type": "code",
   "execution_count": 18,
   "id": "6d4d6d37",
   "metadata": {},
   "outputs": [
    {
     "ename": "NameError",
     "evalue": "name 'u' is not defined",
     "output_type": "error",
     "traceback": [
      "\u001b[1;31m---------------------------------------------------------------------------\u001b[0m",
      "\u001b[1;31mNameError\u001b[0m                                 Traceback (most recent call last)",
      "Input \u001b[1;32mIn [18]\u001b[0m, in \u001b[0;36m<cell line: 4>\u001b[1;34m()\u001b[0m\n\u001b[0;32m      2\u001b[0m     a \u001b[38;5;241m=\u001b[39m \u001b[38;5;241m2\u001b[39m; b[\u001b[38;5;241m0\u001b[39m] \u001b[38;5;241m=\u001b[39m \u001b[38;5;124m'\u001b[39m\u001b[38;5;124mx\u001b[39m\u001b[38;5;124m'\u001b[39m; c[\u001b[38;5;124m'\u001b[39m\u001b[38;5;124ma\u001b[39m\u001b[38;5;124m'\u001b[39m]\u001b[38;5;241m=\u001b[39m\u001b[38;5;124m'\u001b[39m\u001b[38;5;124my\u001b[39m\u001b[38;5;124m'\u001b[39m\n\u001b[0;32m      3\u001b[0m     u\u001b[38;5;241m=\u001b[39m\u001b[38;5;241m1\u001b[39m; m\u001b[38;5;241m=\u001b[39m[\u001b[38;5;241m1\u001b[39m]; n\u001b[38;5;241m=\u001b[39m{\u001b[38;5;124m'\u001b[39m\u001b[38;5;124ma\u001b[39m\u001b[38;5;124m'\u001b[39m:\u001b[38;5;241m0\u001b[39m}\n\u001b[1;32m----> 4\u001b[0m func(\u001b[43mu\u001b[49m, m, n)\n",
      "\u001b[1;31mNameError\u001b[0m: name 'u' is not defined"
     ]
    }
   ],
   "source": [
    "def func(a, b, c):\n",
    "    a = 2; b[0] = 'x'; c['a']='y'\n",
    "    u=1; m=[1]; n={'a':0}\n",
    "func(u, m, n)"
   ]
  },
  {
   "cell_type": "code",
   "execution_count": null,
   "id": "a5e4de7d",
   "metadata": {},
   "outputs": [],
   "source": []
  }
 ],
 "metadata": {
  "kernelspec": {
   "display_name": "Python 3 (ipykernel)",
   "language": "python",
   "name": "python3"
  },
  "language_info": {
   "codemirror_mode": {
    "name": "ipython",
    "version": 3
   },
   "file_extension": ".py",
   "mimetype": "text/x-python",
   "name": "python",
   "nbconvert_exporter": "python",
   "pygments_lexer": "ipython3",
   "version": "3.9.12"
  }
 },
 "nbformat": 4,
 "nbformat_minor": 5
}
