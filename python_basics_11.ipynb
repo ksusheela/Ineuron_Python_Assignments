{
 "cells": [
  {
   "cell_type": "markdown",
   "id": "ec182a21",
   "metadata": {},
   "source": [
    "## 1.Create an assert statement that throws an AssertionError if the variable spam is a negativeinteger."
   ]
  },
  {
   "cell_type": "code",
   "execution_count": 20,
   "id": "e03f0473",
   "metadata": {},
   "outputs": [
    {
     "ename": "AssertionError",
     "evalue": "Error: spam is a negative integer",
     "output_type": "error",
     "traceback": [
      "\u001b[1;31m---------------------------------------------------------------------------\u001b[0m",
      "\u001b[1;31mAssertionError\u001b[0m                            Traceback (most recent call last)",
      "Input \u001b[1;32mIn [20]\u001b[0m, in \u001b[0;36m<cell line: 2>\u001b[1;34m()\u001b[0m\n\u001b[0;32m      1\u001b[0m spam \u001b[38;5;241m=\u001b[39m\u001b[38;5;241m-\u001b[39m\u001b[38;5;241m1\u001b[39m\n\u001b[1;32m----> 2\u001b[0m \u001b[38;5;28;01massert\u001b[39;00m spam \u001b[38;5;241m>\u001b[39m\u001b[38;5;241m=\u001b[39m \u001b[38;5;241m0\u001b[39m, \u001b[38;5;124m\"\u001b[39m\u001b[38;5;124mError: spam is a negative integer\u001b[39m\u001b[38;5;124m\"\u001b[39m\n",
      "\u001b[1;31mAssertionError\u001b[0m: Error: spam is a negative integer"
     ]
    }
   ],
   "source": [
    "spam =-1\n",
    "assert spam >= 0, \"Error: spam is a negative integer\"\n"
   ]
  },
  {
   "cell_type": "markdown",
   "id": "c0f418f9",
   "metadata": {},
   "source": [
    "This assert statement checks that spam is greater than or equal to 0, and if it's not, it raises an AssertionError with the specified error message. You can replace the error message with any message that you think is appropriate for your code."
   ]
  },
  {
   "cell_type": "markdown",
   "id": "d6a725cb",
   "metadata": {},
   "source": [
    "## 2. Write an assert statement that triggers an AssertionError if the variables eggs and bacon contain strings that are the same as each other, even if their cases are different (that is, &#39;hello&#39; and &#39;hello&#39; are considered the same, and &#39;goodbye&#39; and &#39;GOODbye&#39; are also considered the same)."
   ]
  },
  {
   "cell_type": "code",
   "execution_count": 23,
   "id": "2d942675",
   "metadata": {},
   "outputs": [
    {
     "ename": "AssertionError",
     "evalue": "Error: eggs and bacon are the same string (case-insensitive)",
     "output_type": "error",
     "traceback": [
      "\u001b[1;31m---------------------------------------------------------------------------\u001b[0m",
      "\u001b[1;31mAssertionError\u001b[0m                            Traceback (most recent call last)",
      "Input \u001b[1;32mIn [23]\u001b[0m, in \u001b[0;36m<cell line: 3>\u001b[1;34m()\u001b[0m\n\u001b[0;32m      1\u001b[0m eggs\u001b[38;5;241m=\u001b[39m\u001b[38;5;124m'\u001b[39m\u001b[38;5;124mgoodbye\u001b[39m\u001b[38;5;124m'\u001b[39m\n\u001b[0;32m      2\u001b[0m bacon\u001b[38;5;241m=\u001b[39m\u001b[38;5;124m'\u001b[39m\u001b[38;5;124mGOODbye\u001b[39m\u001b[38;5;124m'\u001b[39m\n\u001b[1;32m----> 3\u001b[0m \u001b[38;5;28;01massert\u001b[39;00m eggs\u001b[38;5;241m.\u001b[39mlower() \u001b[38;5;241m!=\u001b[39m bacon\u001b[38;5;241m.\u001b[39mlower(), \u001b[38;5;124m\"\u001b[39m\u001b[38;5;124mError: eggs and bacon are the same string (case-insensitive)\u001b[39m\u001b[38;5;124m\"\u001b[39m\n",
      "\u001b[1;31mAssertionError\u001b[0m: Error: eggs and bacon are the same string (case-insensitive)"
     ]
    }
   ],
   "source": [
    "eggs='goodbye'\n",
    "bacon='GOODbye'\n",
    "assert eggs.lower() != bacon.lower(), \"Error: eggs and bacon are the same string (case-insensitive)\"\n"
   ]
  },
  {
   "cell_type": "code",
   "execution_count": 25,
   "id": "6b41f6e8",
   "metadata": {},
   "outputs": [
    {
     "ename": "AssertionError",
     "evalue": "Error: eggs and bacon are the same string (case-insensitive)",
     "output_type": "error",
     "traceback": [
      "\u001b[1;31m---------------------------------------------------------------------------\u001b[0m",
      "\u001b[1;31mAssertionError\u001b[0m                            Traceback (most recent call last)",
      "Input \u001b[1;32mIn [25]\u001b[0m, in \u001b[0;36m<cell line: 3>\u001b[1;34m()\u001b[0m\n\u001b[0;32m      1\u001b[0m a\u001b[38;5;241m=\u001b[39m\u001b[38;5;124m'\u001b[39m\u001b[38;5;124mhello\u001b[39m\u001b[38;5;124m'\u001b[39m\n\u001b[0;32m      2\u001b[0m b\u001b[38;5;241m=\u001b[39m\u001b[38;5;124m'\u001b[39m\u001b[38;5;124mhello\u001b[39m\u001b[38;5;124m'\u001b[39m\n\u001b[1;32m----> 3\u001b[0m \u001b[38;5;28;01massert\u001b[39;00m a \u001b[38;5;241m!=\u001b[39m b, \u001b[38;5;124m\"\u001b[39m\u001b[38;5;124mError: eggs and bacon are the same string (case-insensitive)\u001b[39m\u001b[38;5;124m\"\u001b[39m\n",
      "\u001b[1;31mAssertionError\u001b[0m: Error: eggs and bacon are the same string (case-insensitive)"
     ]
    }
   ],
   "source": [
    "a='hello'\n",
    "b='hello'\n",
    "assert a != b, \"Error: eggs and bacon are the same string (case-insensitive)\""
   ]
  },
  {
   "cell_type": "markdown",
   "id": "ed39d70f",
   "metadata": {},
   "source": [
    "This assert statement converts both eggs and bacon to lowercase using the lower() method and then checks if they are different. If they are the same, an AssertionError is raised with the specified error message. You can modify the error message to suit your needs."
   ]
  },
  {
   "cell_type": "markdown",
   "id": "c9c18b91",
   "metadata": {},
   "source": [
    "## 3. Create an assert statement that throws an AssertionError every time."
   ]
  },
  {
   "cell_type": "code",
   "execution_count": 27,
   "id": "9c3e6fcf",
   "metadata": {},
   "outputs": [
    {
     "ename": "AssertionError",
     "evalue": "This assert statement always raises an AssertionError",
     "output_type": "error",
     "traceback": [
      "\u001b[1;31m---------------------------------------------------------------------------\u001b[0m",
      "\u001b[1;31mAssertionError\u001b[0m                            Traceback (most recent call last)",
      "Input \u001b[1;32mIn [27]\u001b[0m, in \u001b[0;36m<cell line: 1>\u001b[1;34m()\u001b[0m\n\u001b[1;32m----> 1\u001b[0m \u001b[38;5;28;01massert\u001b[39;00m \u001b[38;5;28;01mFalse\u001b[39;00m, \u001b[38;5;124m\"\u001b[39m\u001b[38;5;124mThis assert statement always raises an AssertionError\u001b[39m\u001b[38;5;124m\"\u001b[39m\n",
      "\u001b[1;31mAssertionError\u001b[0m: This assert statement always raises an AssertionError"
     ]
    }
   ],
   "source": [
    "assert False, \"This assert statement always raises an AssertionError\"\n"
   ]
  },
  {
   "cell_type": "code",
   "execution_count": 14,
   "id": "0d67eb3f",
   "metadata": {},
   "outputs": [],
   "source": [
    "assert True, \"This assert statement always raises an AssertionError\"\n"
   ]
  },
  {
   "cell_type": "markdown",
   "id": "2cbe6b4a",
   "metadata": {},
   "source": [
    "This assert statement checks whether the expression False is true, which is never the case. Therefore, an AssertionError is always raised with the specified error message. You can modify the error message to suit your needs. This type of assert statement can be useful for temporarily disabling code that you don't want to run, or for marking incomplete code that you need to return to later."
   ]
  },
  {
   "cell_type": "markdown",
   "id": "38c22f05",
   "metadata": {},
   "source": [
    "## 4. What are the two lines that must be present in your software in order to call logging.debug()?"
   ]
  },
  {
   "cell_type": "markdown",
   "id": "29c835c7",
   "metadata": {},
   "source": [
    "To call logging.debug() in your software, you need to have the following two lines of code at the beginning of your script:\n",
    "\n",
    "import logging\n",
    "\n",
    "logging.basicConfig(level=logging.DEBUG, format='%(asctime)s - %(levelname)s - %(message)s')\n",
    "\n",
    "The first line imports the logging module, which provides the debug() function and other logging-related functionality. The second line sets up the logging system to output debug messages to the console, with a specific date/time format and log message format.\n",
    "\n",
    "Once these two lines are present, you can call logging.debug() at any point in your code to write a debug message to the console."
   ]
  },
  {
   "cell_type": "markdown",
   "id": "3e733f6a",
   "metadata": {},
   "source": [
    "## 5. What are the two lines that your program must have in order to have logging.debug() send alogging message to a file named programLog.txt?"
   ]
  },
  {
   "cell_type": "markdown",
   "id": "dad24225",
   "metadata": {},
   "source": [
    "To send logging.debug() messages to a file named programLog.txt, you need to have the following two lines of code at the beginning of your script:\n",
    "\n",
    "import logging\n",
    "\n",
    "logging.basicConfig(filename='programLog.txt', level=logging.DEBUG, format='%(asctime)s - %(levelname)s - %(message)s')\n",
    "\n",
    "The first line imports the logging module, which provides the debug() function and other logging-related functionality. The second line sets up the logging system to output debug messages to a file named programLog.txt, with a specific date/time format and log message format.\n",
    "\n",
    "Once these two lines are present, you can call logging.debug() at any point in your code to write a debug message to the programLog.txt file. The file will be created in the same directory as your script, if it doesn't exist already."
   ]
  },
  {
   "cell_type": "markdown",
   "id": "7230e9ff",
   "metadata": {},
   "source": [
    "## 6.What are the five levels of logging?"
   ]
  },
  {
   "cell_type": "markdown",
   "id": "ee047f06",
   "metadata": {},
   "source": [
    "DEBUG: Detailed information, typically of interest only when diagnosing problems.\n",
    "\n",
    "INFO: General information about the program's operation.\n",
    "\n",
    "WARNING: An indication that something unexpected or potentially problematic has occurred, or indicative of some problem in the near future.\n",
    "\n",
    "ERROR: An error has occurred that is more serious than a warning, but not fatal to the program's operation.\n",
    "\n",
    "CRITICAL: A very serious error has occurred, indicating that the program may be unable to continue running.\n",
    "\n",
    "These levels allow developers to control the amount of information that gets logged, depending on how critical a given message is to the operation of the program. By default, the logging module will capture messages of all levels, but you can configure it to capture only messages of a certain level or higher."
   ]
  },
  {
   "cell_type": "markdown",
   "id": "36ac5709",
   "metadata": {},
   "source": [
    "## 7.What line of code would you add to your software to disable all logging messages?"
   ]
  },
  {
   "cell_type": "markdown",
   "id": "1cec7bea",
   "metadata": {},
   "source": [
    "To disable all logging messages in Python, you can add the following line of code at the beginning of your script:"
   ]
  },
  {
   "cell_type": "markdown",
   "id": "576dd7c8",
   "metadata": {},
   "source": [
    "logging.disable(logging.CRITICAL)\n",
    "\n",
    "This line sets the logging level to CRITICAL, which is the highest logging level, and causes the logging system to ignore all messages of lower levels. This effectively disables all logging messages, since all messages will be below the CRITICAL level."
   ]
  },
  {
   "cell_type": "markdown",
   "id": "b79d9637",
   "metadata": {},
   "source": [
    "## 8.Why is using logging messages better than using print() to display the same message?"
   ]
  },
  {
   "cell_type": "markdown",
   "id": "fdfffaed",
   "metadata": {},
   "source": [
    "Using logging messages is generally better than using print() statements to display messages for several reasons:\n",
    "\n",
    "### Flexibility: \n",
    "The logging module provides a lot of flexibility in how messages are captured and handled, which can be useful in complex programs. For example, you can configure the logging module to write messages to a file, send them over a network, or filter them based on severity.\n",
    "\n",
    "### Granularity:\n",
    "The logging module provides several levels of message severity (debug, info, warning, error, and critical), which allows you to capture and handle different types of messages differently. This can be helpful when debugging, as it allows you to focus on the most important messages first.\n",
    "\n",
    "### Integration with other libraries: \n",
    "Many Python libraries use the logging module for their own messages, so using logging messages can make it easier to integrate your code with other libraries.\n",
    "\n",
    "### Performance: \n",
    "The logging module is designed to be efficient and low-overhead, which means that it can capture and handle messages with minimal impact on performance. In contrast, using print() statements can add unnecessary overhead to your program.\n",
    "\n",
    "### Maintenance:\n",
    "Using logging messages can make your code easier to maintain and debug in the long run. Since logging messages are captured and handled in a separate module, they are less likely to clutter your code and make it harder to read and understand.\n",
    "\n",
    "Overall, using logging messages is a more flexible, powerful, and maintainable way to capture and handle messages in Python programs, compared to using print() statements.\n",
    "\n",
    "\n",
    "\n",
    "\n",
    "\n"
   ]
  },
  {
   "cell_type": "markdown",
   "id": "811ae26d",
   "metadata": {},
   "source": [
    "## 9.What are the differences between the Step Over, Step In, and Step Out buttons in the debugger?"
   ]
  },
  {
   "cell_type": "markdown",
   "id": "084d2e9d",
   "metadata": {},
   "source": [
    "The Step Over, Step In, and Step Out buttons are common debugging commands found in most integrated development environments (IDEs) that support debugging. These buttons allow developers to control the flow of execution of their code during debugging. Here are the differences between the three buttons:\n",
    "\n",
    "Step Over: The Step Over button allows you to execute the current line of code, without stepping into any functions or methods that may be called on that line. If the current line contains a function or method call, the function will be executed, but the debugger will not stop inside the function. Instead, it will move to the next line of code after the function returns.\n",
    "\n",
    "Step In: The Step In button allows you to execute the current line of code and step into any functions or methods that may be called on that line. If the current line contains a function or method call, the debugger will stop at the first line of the function or method, allowing you to step through the code inside that function or method.\n",
    "\n",
    "Step Out: The Step Out button allows you to step out of the current function or method that you are debugging and return to the calling function or method. If you are currently debugging a function or method, and you want to return to the caller without stepping through the remaining lines of code in the current function, you can use the Step Out button to do so.\n",
    "\n",
    "In summary, the Step Over button allows you to execute the current line of code and move to the next line, the Step In button allows you to execute the current line of code and move inside any functions or methods called on that line, and the Step Out button allows you to step out of the current function or method and return to the caller.\n",
    "\n",
    "\n",
    "\n",
    "\n",
    "\n"
   ]
  },
  {
   "cell_type": "markdown",
   "id": "7708ec2a",
   "metadata": {},
   "source": [
    "## 10.After you click Continue, when will the debugger stop ?"
   ]
  },
  {
   "cell_type": "markdown",
   "id": "5880fee3",
   "metadata": {},
   "source": [
    "When you click the Continue button in a debugger, the program will continue executing without interruption until one of the following events occurs:\n",
    "\n",
    "A breakpoint is encountered: If there is a breakpoint set in the code, the debugger will stop at that breakpoint when it is reached during execution.\n",
    "\n",
    "An exception is raised: If an exception is raised during execution, the debugger will stop at the point where the exception is raised, allowing you to inspect the state of the program and debug the error.\n",
    "\n",
    "The program finishes executing: If the program finishes executing without encountering any breakpoints or exceptions, the debugger will stop and return control to the IDE.\n",
    "\n",
    "The user manually stops the debugger: If the user stops the debugger manually, either by clicking the Stop button in the IDE or by using a keyboard shortcut, the debugger will stop immediately.\n",
    "\n",
    "In general, the Continue button allows the program to run without interruption until one of the above events occurs. This can be useful for quickly running the program and testing its behavior, without having to manually step through every line of code.\n"
   ]
  },
  {
   "cell_type": "markdown",
   "id": "145a25be",
   "metadata": {},
   "source": [
    "## 11.What is the concept of a breakpoint?"
   ]
  },
  {
   "cell_type": "markdown",
   "id": "8b2c9e8c",
   "metadata": {},
   "source": [
    "In software development, a breakpoint is a tool used by programmers to pause the execution of a program at a specific point in the code. When a breakpoint is set at a particular line of code, the program will stop running when it reaches that line, and the developer can then examine the state of the program at that point.\n",
    "\n",
    "Breakpoints are commonly used for debugging code. By pausing the execution of the program at a specific point, the developer can inspect the values of variables, evaluate expressions, and step through the code line by line to identify and fix errors in the program."
   ]
  },
  {
   "cell_type": "code",
   "execution_count": null,
   "id": "140a56c5",
   "metadata": {},
   "outputs": [],
   "source": []
  }
 ],
 "metadata": {
  "kernelspec": {
   "display_name": "Python 3 (ipykernel)",
   "language": "python",
   "name": "python3"
  },
  "language_info": {
   "codemirror_mode": {
    "name": "ipython",
    "version": 3
   },
   "file_extension": ".py",
   "mimetype": "text/x-python",
   "name": "python",
   "nbconvert_exporter": "python",
   "pygments_lexer": "ipython3",
   "version": "3.9.12"
  }
 },
 "nbformat": 4,
 "nbformat_minor": 5
}
